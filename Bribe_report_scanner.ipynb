{
 "cells": [
  {
   "cell_type": "markdown",
   "id": "2836bb9a",
   "metadata": {},
   "source": [
    "Name : Talole Prajakta Vijay\n",
    "Project : Bribe Report Scanner"
   ]
  },
  {
   "cell_type": "markdown",
   "id": "d868814b",
   "metadata": {},
   "source": [
    "# Bribe_report_scanner\n",
    "\n",
    "'''Problem Statement :  Problem statement: -\n",
    "\n",
    "This dataset contains information about the bribes taken from public. All the information in this dataset\n",
    "is submitted by public of India. It contains information about department which did the corruption, date,\n",
    "location, amount, views of their post and amount they were forced to give.\n",
    "\n",
    "\n",
    "Find the following observation: -\n",
    "1 - Most Bribes are paid in which cities?\n",
    "2- Most Bribes are paid in which states?\n",
    "3- Which department gets paid the most bribe?\n",
    "4-Departments which take most bribe on average and overall.\n",
    "5-Bribes paid by days of the month\n",
    "6-Bribes paid by days of the days of week\n",
    "7-Bribes paid by Years\n",
    "8-Conclusion\n",
    "'''\n",
    "    "
   ]
  },
  {
   "cell_type": "code",
   "execution_count": 1,
   "id": "bcc5e74a",
   "metadata": {},
   "outputs": [
    {
     "name": "stderr",
     "output_type": "stream",
     "text": [
      "C:\\Users\\Redmi\\New folder\\lib\\site-packages\\scipy\\__init__.py:146: UserWarning: A NumPy version >=1.16.5 and <1.23.0 is required for this version of SciPy (detected version 1.24.3\n",
      "  warnings.warn(f\"A NumPy version >={np_minversion} and <{np_maxversion}\"\n"
     ]
    }
   ],
   "source": [
    "import numpy as np\n",
    "import pandas as pd\n",
    "import seaborn as sns\n",
    "import matplotlib\n",
    "import matplotlib.pyplot as plt\n",
    "%matplotlib inline\n",
    "\n",
    "sns.set_style('darkgrid')\n",
    "matplotlib.rcParams['font.size'] = 14\n",
    "matplotlib.rcParams['figure.figsize'] = (9, 5)\n",
    "matplotlib.rcParams['figure.facecolor'] = '#00000000'\n",
    "\n",
    "import warnings\n",
    "warnings.filterwarnings('ignore')"
   ]
  },
  {
   "cell_type": "code",
   "execution_count": 2,
   "id": "f95854c4",
   "metadata": {},
   "outputs": [],
   "source": [
    "df1 = pd.read_csv('Bribe_report.csv')\n",
    "df=df1.copy()"
   ]
  },
  {
   "cell_type": "code",
   "execution_count": 3,
   "id": "ec4003fa",
   "metadata": {
    "scrolled": true
   },
   "outputs": [
    {
     "data": {
      "text/html": [
       "<div>\n",
       "<style scoped>\n",
       "    .dataframe tbody tr th:only-of-type {\n",
       "        vertical-align: middle;\n",
       "    }\n",
       "\n",
       "    .dataframe tbody tr th {\n",
       "        vertical-align: top;\n",
       "    }\n",
       "\n",
       "    .dataframe thead th {\n",
       "        text-align: right;\n",
       "    }\n",
       "</style>\n",
       "<table border=\"1\" class=\"dataframe\">\n",
       "  <thead>\n",
       "    <tr style=\"text-align: right;\">\n",
       "      <th></th>\n",
       "      <th>Title</th>\n",
       "      <th>Date</th>\n",
       "      <th>Location</th>\n",
       "      <th>Department</th>\n",
       "      <th>Views</th>\n",
       "      <th>Amount(INR)</th>\n",
       "    </tr>\n",
       "  </thead>\n",
       "  <tbody>\n",
       "    <tr>\n",
       "      <th>0</th>\n",
       "      <td>They said it is registration fee for birth cer...</td>\n",
       "      <td>14-10-20</td>\n",
       "      <td>Bangalore,Karnataka</td>\n",
       "      <td>Births, Family and Care</td>\n",
       "      <td>1225</td>\n",
       "      <td>400</td>\n",
       "    </tr>\n",
       "    <tr>\n",
       "      <th>1</th>\n",
       "      <td>Paid bribe for not having insurance during pan...</td>\n",
       "      <td>13-10-20</td>\n",
       "      <td>Bangalore,Karnataka</td>\n",
       "      <td>Vehicle Insurance</td>\n",
       "      <td>1158</td>\n",
       "      <td>350</td>\n",
       "    </tr>\n",
       "    <tr>\n",
       "      <th>2</th>\n",
       "      <td>Forced to pay bribe at KR Puram RTO</td>\n",
       "      <td>13-10-20</td>\n",
       "      <td>Bangalore,Karnataka</td>\n",
       "      <td>Driving and Transport Business</td>\n",
       "      <td>1249</td>\n",
       "      <td>100</td>\n",
       "    </tr>\n",
       "    <tr>\n",
       "      <th>3</th>\n",
       "      <td>Forced to pay 100 rupees bribe for LL test</td>\n",
       "      <td>13-10-20</td>\n",
       "      <td>Bangalore,Karnataka</td>\n",
       "      <td>Driving Licenses and Tests</td>\n",
       "      <td>1044</td>\n",
       "      <td>100</td>\n",
       "    </tr>\n",
       "    <tr>\n",
       "      <th>4</th>\n",
       "      <td>Misusing of power and traping people in false ...</td>\n",
       "      <td>13-10-20</td>\n",
       "      <td>Siwan,Bihar</td>\n",
       "      <td>FIR and Complaints</td>\n",
       "      <td>1068</td>\n",
       "      <td>15000</td>\n",
       "    </tr>\n",
       "    <tr>\n",
       "      <th>...</th>\n",
       "      <td>...</td>\n",
       "      <td>...</td>\n",
       "      <td>...</td>\n",
       "      <td>...</td>\n",
       "      <td>...</td>\n",
       "      <td>...</td>\n",
       "    </tr>\n",
       "    <tr>\n",
       "      <th>95</th>\n",
       "      <td>Bribe taken by traffic polive</td>\n",
       "      <td>4/9/2020</td>\n",
       "      <td>Howrah,WestBengal</td>\n",
       "      <td>Driving Licenses and Tests</td>\n",
       "      <td>1134</td>\n",
       "      <td>2000</td>\n",
       "    </tr>\n",
       "    <tr>\n",
       "      <th>96</th>\n",
       "      <td>CDSCO FOR DIAGNOSTIC KIT APPROVAL</td>\n",
       "      <td>1/9/2020</td>\n",
       "      <td>Ambala,Haryana</td>\n",
       "      <td>Drugs License</td>\n",
       "      <td>1096</td>\n",
       "      <td>200000</td>\n",
       "    </tr>\n",
       "    <tr>\n",
       "      <th>97</th>\n",
       "      <td>DISTRICT DRUG INSPECTOR NEEDS ANNUAL RENEWAL FEES</td>\n",
       "      <td>1/9/2020</td>\n",
       "      <td>Ambala,Haryana</td>\n",
       "      <td>Drugs License</td>\n",
       "      <td>1082</td>\n",
       "      <td>100000</td>\n",
       "    </tr>\n",
       "    <tr>\n",
       "      <th>98</th>\n",
       "      <td>Quarantine issues at the airport</td>\n",
       "      <td>30-08-20</td>\n",
       "      <td>NewDelhi,Delhi</td>\n",
       "      <td>Visa</td>\n",
       "      <td>1521</td>\n",
       "      <td>5000</td>\n",
       "    </tr>\n",
       "    <tr>\n",
       "      <th>99</th>\n",
       "      <td>Paid a bribe for obtaining my original markshe...</td>\n",
       "      <td>29-08-20</td>\n",
       "      <td>Patna,Bihar</td>\n",
       "      <td>College Leaving Certificate</td>\n",
       "      <td>2304</td>\n",
       "      <td>300</td>\n",
       "    </tr>\n",
       "  </tbody>\n",
       "</table>\n",
       "<p>100 rows × 6 columns</p>\n",
       "</div>"
      ],
      "text/plain": [
       "                                                Title      Date  \\\n",
       "0   They said it is registration fee for birth cer...  14-10-20   \n",
       "1   Paid bribe for not having insurance during pan...  13-10-20   \n",
       "2                 Forced to pay bribe at KR Puram RTO  13-10-20   \n",
       "3          Forced to pay 100 rupees bribe for LL test  13-10-20   \n",
       "4   Misusing of power and traping people in false ...  13-10-20   \n",
       "..                                                ...       ...   \n",
       "95                      Bribe taken by traffic polive  4/9/2020   \n",
       "96                  CDSCO FOR DIAGNOSTIC KIT APPROVAL  1/9/2020   \n",
       "97  DISTRICT DRUG INSPECTOR NEEDS ANNUAL RENEWAL FEES  1/9/2020   \n",
       "98                   Quarantine issues at the airport  30-08-20   \n",
       "99  Paid a bribe for obtaining my original markshe...  29-08-20   \n",
       "\n",
       "               Location                      Department  Views  Amount(INR)  \n",
       "0   Bangalore,Karnataka         Births, Family and Care   1225          400  \n",
       "1   Bangalore,Karnataka               Vehicle Insurance   1158          350  \n",
       "2   Bangalore,Karnataka  Driving and Transport Business   1249          100  \n",
       "3   Bangalore,Karnataka      Driving Licenses and Tests   1044          100  \n",
       "4           Siwan,Bihar              FIR and Complaints   1068        15000  \n",
       "..                  ...                             ...    ...          ...  \n",
       "95    Howrah,WestBengal      Driving Licenses and Tests   1134         2000  \n",
       "96       Ambala,Haryana                   Drugs License   1096       200000  \n",
       "97       Ambala,Haryana                   Drugs License   1082       100000  \n",
       "98       NewDelhi,Delhi                            Visa   1521         5000  \n",
       "99          Patna,Bihar     College Leaving Certificate   2304          300  \n",
       "\n",
       "[100 rows x 6 columns]"
      ]
     },
     "execution_count": 3,
     "metadata": {},
     "output_type": "execute_result"
    }
   ],
   "source": [
    "df.head(100)"
   ]
  },
  {
   "cell_type": "code",
   "execution_count": 4,
   "id": "010811a0",
   "metadata": {},
   "outputs": [
    {
     "name": "stdout",
     "output_type": "stream",
     "text": [
      "<class 'pandas.core.frame.DataFrame'>\n",
      "RangeIndex: 3473 entries, 0 to 3472\n",
      "Data columns (total 6 columns):\n",
      " #   Column       Non-Null Count  Dtype \n",
      "---  ------       --------------  ----- \n",
      " 0   Title        3473 non-null   object\n",
      " 1   Date         3473 non-null   object\n",
      " 2   Location     3473 non-null   object\n",
      " 3   Department   3429 non-null   object\n",
      " 4   Views        3473 non-null   int64 \n",
      " 5   Amount(INR)  3473 non-null   int64 \n",
      "dtypes: int64(2), object(4)\n",
      "memory usage: 162.9+ KB\n"
     ]
    }
   ],
   "source": [
    "df.info()"
   ]
  },
  {
   "cell_type": "code",
   "execution_count": 5,
   "id": "a2816eb8",
   "metadata": {},
   "outputs": [
    {
     "name": "stdout",
     "output_type": "stream",
     "text": [
      "The dataset has  3473  rows and  6  columns.\n"
     ]
    }
   ],
   "source": [
    "r,c=df.shape\n",
    "print('The dataset has ',r,' rows and ',c,' columns.' )"
   ]
  },
  {
   "cell_type": "code",
   "execution_count": 6,
   "id": "a90ab7fe",
   "metadata": {},
   "outputs": [
    {
     "data": {
      "text/plain": [
       "Title           0\n",
       "Date            0\n",
       "Location        0\n",
       "Department     44\n",
       "Views           0\n",
       "Amount(INR)     0\n",
       "dtype: int64"
      ]
     },
     "execution_count": 6,
     "metadata": {},
     "output_type": "execute_result"
    }
   ],
   "source": [
    "df.isnull().sum()"
   ]
  },
  {
   "cell_type": "code",
   "execution_count": 7,
   "id": "3161c074",
   "metadata": {},
   "outputs": [
    {
     "data": {
      "text/plain": [
       "Others                                    472\n",
       "Police Verification for Passport          266\n",
       "Traffic Violations                        236\n",
       "Birth Certificate                         155\n",
       "Traffic Fines, Penalties, Rules           101\n",
       "                                         ... \n",
       "Inspection of Vehicles after Accidents      1\n",
       "License Renewal                             1\n",
       "Title Deed                                  1\n",
       "Extra Charges                               1\n",
       "Enrolment for Aadhaar Card                  1\n",
       "Name: Department, Length: 367, dtype: int64"
      ]
     },
     "execution_count": 7,
     "metadata": {},
     "output_type": "execute_result"
    }
   ],
   "source": [
    "df['Department'].value_counts()"
   ]
  },
  {
   "cell_type": "code",
   "execution_count": 8,
   "id": "95cf2b93",
   "metadata": {},
   "outputs": [
    {
     "data": {
      "text/html": [
       "<div>\n",
       "<style scoped>\n",
       "    .dataframe tbody tr th:only-of-type {\n",
       "        vertical-align: middle;\n",
       "    }\n",
       "\n",
       "    .dataframe tbody tr th {\n",
       "        vertical-align: top;\n",
       "    }\n",
       "\n",
       "    .dataframe thead th {\n",
       "        text-align: right;\n",
       "    }\n",
       "</style>\n",
       "<table border=\"1\" class=\"dataframe\">\n",
       "  <thead>\n",
       "    <tr style=\"text-align: right;\">\n",
       "      <th></th>\n",
       "      <th>Title</th>\n",
       "      <th>Date</th>\n",
       "      <th>Location</th>\n",
       "      <th>Department</th>\n",
       "      <th>Views</th>\n",
       "      <th>Amount(INR)</th>\n",
       "    </tr>\n",
       "  </thead>\n",
       "  <tbody>\n",
       "    <tr>\n",
       "      <th>34</th>\n",
       "      <td>I paid 500rs bribe for passport police verific...</td>\n",
       "      <td>2/10/2020</td>\n",
       "      <td>NewDelhi,Delhi</td>\n",
       "      <td>NaN</td>\n",
       "      <td>1451</td>\n",
       "      <td>500</td>\n",
       "    </tr>\n",
       "    <tr>\n",
       "      <th>38</th>\n",
       "      <td>For clearing papers in survey for SRA</td>\n",
       "      <td>25-09-20</td>\n",
       "      <td>Mumbai,Maharashtra</td>\n",
       "      <td>NaN</td>\n",
       "      <td>1760</td>\n",
       "      <td>500000</td>\n",
       "    </tr>\n",
       "    <tr>\n",
       "      <th>74</th>\n",
       "      <td>I paid 500rs bribe for passport police verific...</td>\n",
       "      <td>2/10/2020</td>\n",
       "      <td>NewDelhi,Delhi</td>\n",
       "      <td>NaN</td>\n",
       "      <td>1451</td>\n",
       "      <td>500</td>\n",
       "    </tr>\n",
       "    <tr>\n",
       "      <th>78</th>\n",
       "      <td>For clearing papers in survey for SRA</td>\n",
       "      <td>25-09-20</td>\n",
       "      <td>Mumbai,Maharashtra</td>\n",
       "      <td>NaN</td>\n",
       "      <td>1760</td>\n",
       "      <td>500000</td>\n",
       "    </tr>\n",
       "    <tr>\n",
       "      <th>144</th>\n",
       "      <td>Bribe taken by pollution office of Raipur (CG)</td>\n",
       "      <td>15-05-20</td>\n",
       "      <td>Raipur,Chhattisgarh</td>\n",
       "      <td>NaN</td>\n",
       "      <td>1565</td>\n",
       "      <td>200000</td>\n",
       "    </tr>\n",
       "    <tr>\n",
       "      <th>202</th>\n",
       "      <td>Reg Husband mohamed asik given amount to socia...</td>\n",
       "      <td>25-02-20</td>\n",
       "      <td>Madurai,TamilNadu</td>\n",
       "      <td>NaN</td>\n",
       "      <td>1848</td>\n",
       "      <td>5000</td>\n",
       "    </tr>\n",
       "    <tr>\n",
       "      <th>230</th>\n",
       "      <td>For Staying on the road side with motorcycle</td>\n",
       "      <td>5/2/2020</td>\n",
       "      <td>Bangalore,Karnataka</td>\n",
       "      <td>NaN</td>\n",
       "      <td>1816</td>\n",
       "      <td>200</td>\n",
       "    </tr>\n",
       "    <tr>\n",
       "      <th>260</th>\n",
       "      <td>Paid 500 Rs bribe at Nizamuddin Station Saraik...</td>\n",
       "      <td>10/1/2020</td>\n",
       "      <td>NewDelhi,Delhi</td>\n",
       "      <td>NaN</td>\n",
       "      <td>1926</td>\n",
       "      <td>500</td>\n",
       "    </tr>\n",
       "    <tr>\n",
       "      <th>278</th>\n",
       "      <td>FSO demanded for bribe through his helper</td>\n",
       "      <td>31-12-19</td>\n",
       "      <td>Silvassa,DadraandNagarHaveli</td>\n",
       "      <td>NaN</td>\n",
       "      <td>881</td>\n",
       "      <td>15000</td>\n",
       "    </tr>\n",
       "    <tr>\n",
       "      <th>300</th>\n",
       "      <td>Bribe for online motation</td>\n",
       "      <td>10/12/2019</td>\n",
       "      <td>Gaya,Bihar</td>\n",
       "      <td>NaN</td>\n",
       "      <td>2138</td>\n",
       "      <td>30000</td>\n",
       "    </tr>\n",
       "  </tbody>\n",
       "</table>\n",
       "</div>"
      ],
      "text/plain": [
       "                                                 Title        Date  \\\n",
       "34   I paid 500rs bribe for passport police verific...   2/10/2020   \n",
       "38               For clearing papers in survey for SRA    25-09-20   \n",
       "74   I paid 500rs bribe for passport police verific...   2/10/2020   \n",
       "78               For clearing papers in survey for SRA    25-09-20   \n",
       "144     Bribe taken by pollution office of Raipur (CG)    15-05-20   \n",
       "202  Reg Husband mohamed asik given amount to socia...    25-02-20   \n",
       "230       For Staying on the road side with motorcycle    5/2/2020   \n",
       "260  Paid 500 Rs bribe at Nizamuddin Station Saraik...   10/1/2020   \n",
       "278          FSO demanded for bribe through his helper    31-12-19   \n",
       "300                          Bribe for online motation  10/12/2019   \n",
       "\n",
       "                         Location Department  Views  Amount(INR)  \n",
       "34                 NewDelhi,Delhi        NaN   1451          500  \n",
       "38             Mumbai,Maharashtra        NaN   1760       500000  \n",
       "74                 NewDelhi,Delhi        NaN   1451          500  \n",
       "78             Mumbai,Maharashtra        NaN   1760       500000  \n",
       "144           Raipur,Chhattisgarh        NaN   1565       200000  \n",
       "202             Madurai,TamilNadu        NaN   1848         5000  \n",
       "230           Bangalore,Karnataka        NaN   1816          200  \n",
       "260                NewDelhi,Delhi        NaN   1926          500  \n",
       "278  Silvassa,DadraandNagarHaveli        NaN    881        15000  \n",
       "300                    Gaya,Bihar        NaN   2138        30000  "
      ]
     },
     "execution_count": 8,
     "metadata": {},
     "output_type": "execute_result"
    }
   ],
   "source": [
    "df[df['Department'].isnull()].head(10)"
   ]
  },
  {
   "cell_type": "code",
   "execution_count": 9,
   "id": "498bf5c4",
   "metadata": {},
   "outputs": [],
   "source": [
    "df['Department'].fillna('Others',inplace=True)"
   ]
  },
  {
   "cell_type": "code",
   "execution_count": 10,
   "id": "23fb8407",
   "metadata": {},
   "outputs": [
    {
     "data": {
      "text/html": [
       "<div>\n",
       "<style scoped>\n",
       "    .dataframe tbody tr th:only-of-type {\n",
       "        vertical-align: middle;\n",
       "    }\n",
       "\n",
       "    .dataframe tbody tr th {\n",
       "        vertical-align: top;\n",
       "    }\n",
       "\n",
       "    .dataframe thead th {\n",
       "        text-align: right;\n",
       "    }\n",
       "</style>\n",
       "<table border=\"1\" class=\"dataframe\">\n",
       "  <thead>\n",
       "    <tr style=\"text-align: right;\">\n",
       "      <th></th>\n",
       "      <th>Title</th>\n",
       "      <th>Date</th>\n",
       "      <th>Location</th>\n",
       "      <th>Department</th>\n",
       "      <th>Views</th>\n",
       "      <th>Amount(INR)</th>\n",
       "    </tr>\n",
       "  </thead>\n",
       "  <tbody>\n",
       "    <tr>\n",
       "      <th>count</th>\n",
       "      <td>3473</td>\n",
       "      <td>3473</td>\n",
       "      <td>3473</td>\n",
       "      <td>3473</td>\n",
       "      <td>3473.000000</td>\n",
       "      <td>3.473000e+03</td>\n",
       "    </tr>\n",
       "    <tr>\n",
       "      <th>unique</th>\n",
       "      <td>3282</td>\n",
       "      <td>1334</td>\n",
       "      <td>510</td>\n",
       "      <td>367</td>\n",
       "      <td>NaN</td>\n",
       "      <td>NaN</td>\n",
       "    </tr>\n",
       "    <tr>\n",
       "      <th>top</th>\n",
       "      <td>Passport verification</td>\n",
       "      <td>7/11/2015</td>\n",
       "      <td>Bangalore,Karnataka</td>\n",
       "      <td>Others</td>\n",
       "      <td>NaN</td>\n",
       "      <td>NaN</td>\n",
       "    </tr>\n",
       "    <tr>\n",
       "      <th>freq</th>\n",
       "      <td>10</td>\n",
       "      <td>37</td>\n",
       "      <td>769</td>\n",
       "      <td>516</td>\n",
       "      <td>NaN</td>\n",
       "      <td>NaN</td>\n",
       "    </tr>\n",
       "    <tr>\n",
       "      <th>mean</th>\n",
       "      <td>NaN</td>\n",
       "      <td>NaN</td>\n",
       "      <td>NaN</td>\n",
       "      <td>NaN</td>\n",
       "      <td>3379.405701</td>\n",
       "      <td>3.331083e+04</td>\n",
       "    </tr>\n",
       "    <tr>\n",
       "      <th>std</th>\n",
       "      <td>NaN</td>\n",
       "      <td>NaN</td>\n",
       "      <td>NaN</td>\n",
       "      <td>NaN</td>\n",
       "      <td>1540.854884</td>\n",
       "      <td>1.508203e+05</td>\n",
       "    </tr>\n",
       "    <tr>\n",
       "      <th>min</th>\n",
       "      <td>NaN</td>\n",
       "      <td>NaN</td>\n",
       "      <td>NaN</td>\n",
       "      <td>NaN</td>\n",
       "      <td>463.000000</td>\n",
       "      <td>1.000000e+00</td>\n",
       "    </tr>\n",
       "    <tr>\n",
       "      <th>25%</th>\n",
       "      <td>NaN</td>\n",
       "      <td>NaN</td>\n",
       "      <td>NaN</td>\n",
       "      <td>NaN</td>\n",
       "      <td>2081.000000</td>\n",
       "      <td>3.300000e+02</td>\n",
       "    </tr>\n",
       "    <tr>\n",
       "      <th>50%</th>\n",
       "      <td>NaN</td>\n",
       "      <td>NaN</td>\n",
       "      <td>NaN</td>\n",
       "      <td>NaN</td>\n",
       "      <td>3272.000000</td>\n",
       "      <td>1.200000e+03</td>\n",
       "    </tr>\n",
       "    <tr>\n",
       "      <th>75%</th>\n",
       "      <td>NaN</td>\n",
       "      <td>NaN</td>\n",
       "      <td>NaN</td>\n",
       "      <td>NaN</td>\n",
       "      <td>4522.000000</td>\n",
       "      <td>8.000000e+03</td>\n",
       "    </tr>\n",
       "    <tr>\n",
       "      <th>max</th>\n",
       "      <td>NaN</td>\n",
       "      <td>NaN</td>\n",
       "      <td>NaN</td>\n",
       "      <td>NaN</td>\n",
       "      <td>20450.000000</td>\n",
       "      <td>2.185000e+06</td>\n",
       "    </tr>\n",
       "  </tbody>\n",
       "</table>\n",
       "</div>"
      ],
      "text/plain": [
       "                        Title       Date             Location Department  \\\n",
       "count                    3473       3473                 3473       3473   \n",
       "unique                   3282       1334                  510        367   \n",
       "top     Passport verification  7/11/2015  Bangalore,Karnataka     Others   \n",
       "freq                       10         37                  769        516   \n",
       "mean                      NaN        NaN                  NaN        NaN   \n",
       "std                       NaN        NaN                  NaN        NaN   \n",
       "min                       NaN        NaN                  NaN        NaN   \n",
       "25%                       NaN        NaN                  NaN        NaN   \n",
       "50%                       NaN        NaN                  NaN        NaN   \n",
       "75%                       NaN        NaN                  NaN        NaN   \n",
       "max                       NaN        NaN                  NaN        NaN   \n",
       "\n",
       "               Views   Amount(INR)  \n",
       "count    3473.000000  3.473000e+03  \n",
       "unique           NaN           NaN  \n",
       "top              NaN           NaN  \n",
       "freq             NaN           NaN  \n",
       "mean     3379.405701  3.331083e+04  \n",
       "std      1540.854884  1.508203e+05  \n",
       "min       463.000000  1.000000e+00  \n",
       "25%      2081.000000  3.300000e+02  \n",
       "50%      3272.000000  1.200000e+03  \n",
       "75%      4522.000000  8.000000e+03  \n",
       "max     20450.000000  2.185000e+06  "
      ]
     },
     "execution_count": 10,
     "metadata": {},
     "output_type": "execute_result"
    }
   ],
   "source": [
    "df.describe(include='all')"
   ]
  },
  {
   "cell_type": "code",
   "execution_count": 11,
   "id": "afe5926e",
   "metadata": {},
   "outputs": [
    {
     "data": {
      "text/html": [
       "<div>\n",
       "<style scoped>\n",
       "    .dataframe tbody tr th:only-of-type {\n",
       "        vertical-align: middle;\n",
       "    }\n",
       "\n",
       "    .dataframe tbody tr th {\n",
       "        vertical-align: top;\n",
       "    }\n",
       "\n",
       "    .dataframe thead th {\n",
       "        text-align: right;\n",
       "    }\n",
       "</style>\n",
       "<table border=\"1\" class=\"dataframe\">\n",
       "  <thead>\n",
       "    <tr style=\"text-align: right;\">\n",
       "      <th></th>\n",
       "      <th>Title</th>\n",
       "      <th>Date</th>\n",
       "      <th>Location</th>\n",
       "      <th>Department</th>\n",
       "    </tr>\n",
       "  </thead>\n",
       "  <tbody>\n",
       "    <tr>\n",
       "      <th>count</th>\n",
       "      <td>3473</td>\n",
       "      <td>3473</td>\n",
       "      <td>3473</td>\n",
       "      <td>3473</td>\n",
       "    </tr>\n",
       "    <tr>\n",
       "      <th>unique</th>\n",
       "      <td>3282</td>\n",
       "      <td>1334</td>\n",
       "      <td>510</td>\n",
       "      <td>367</td>\n",
       "    </tr>\n",
       "    <tr>\n",
       "      <th>top</th>\n",
       "      <td>Passport verification</td>\n",
       "      <td>7/11/2015</td>\n",
       "      <td>Bangalore,Karnataka</td>\n",
       "      <td>Others</td>\n",
       "    </tr>\n",
       "    <tr>\n",
       "      <th>freq</th>\n",
       "      <td>10</td>\n",
       "      <td>37</td>\n",
       "      <td>769</td>\n",
       "      <td>516</td>\n",
       "    </tr>\n",
       "  </tbody>\n",
       "</table>\n",
       "</div>"
      ],
      "text/plain": [
       "                        Title       Date             Location Department\n",
       "count                    3473       3473                 3473       3473\n",
       "unique                   3282       1334                  510        367\n",
       "top     Passport verification  7/11/2015  Bangalore,Karnataka     Others\n",
       "freq                       10         37                  769        516"
      ]
     },
     "execution_count": 11,
     "metadata": {},
     "output_type": "execute_result"
    }
   ],
   "source": [
    "df.describe(include=object)"
   ]
  },
  {
   "cell_type": "code",
   "execution_count": 12,
   "id": "da8297fd",
   "metadata": {},
   "outputs": [
    {
     "name": "stdout",
     "output_type": "stream",
     "text": [
      "<class 'pandas.core.frame.DataFrame'>\n",
      "RangeIndex: 3473 entries, 0 to 3472\n",
      "Data columns (total 6 columns):\n",
      " #   Column       Non-Null Count  Dtype \n",
      "---  ------       --------------  ----- \n",
      " 0   Title        3473 non-null   object\n",
      " 1   Date         3473 non-null   object\n",
      " 2   Location     3473 non-null   object\n",
      " 3   Department   3473 non-null   object\n",
      " 4   Views        3473 non-null   int64 \n",
      " 5   Amount(INR)  3473 non-null   int64 \n",
      "dtypes: int64(2), object(4)\n",
      "memory usage: 162.9+ KB\n"
     ]
    }
   ],
   "source": [
    "df.info()"
   ]
  },
  {
   "cell_type": "code",
   "execution_count": 13,
   "id": "2d787595",
   "metadata": {},
   "outputs": [
    {
     "data": {
      "image/png": "[encoded data removed]",
      "text/plain": [
       "<Figure size 648x360 with 1 Axes>"
      ]
     },
     "metadata": {
      "needs_background": "light"
     },
     "output_type": "display_data"
    }
   ],
   "source": [
    "sns.histplot(df['Amount(INR)'],kde=True,bins=10);\n",
    "#data is highly skewed."
   ]
  },
  {
   "cell_type": "code",
   "execution_count": 14,
   "id": "4326872b",
   "metadata": {},
   "outputs": [
    {
     "data": {
      "text/plain": [
       "<AxesSubplot:xlabel='Amount(INR)', ylabel='Proportion'>"
      ]
     },
     "execution_count": 14,
     "metadata": {},
     "output_type": "execute_result"
    },
    {
     "data": {
      "image/png": "[encoded data removed]",
      "text/plain": [
       "<Figure size 648x360 with 1 Axes>"
      ]
     },
     "metadata": {
      "needs_background": "light"
     },
     "output_type": "display_data"
    }
   ],
   "source": [
    "import seaborn as sns\n",
    "sns.ecdfplot(data=df['Amount(INR)'])      # empirical Commutative distribution"
   ]
  },
  {
   "cell_type": "code",
   "execution_count": 15,
   "id": "a27ae17e",
   "metadata": {},
   "outputs": [
    {
     "name": "stdout",
     "output_type": "stream",
     "text": [
      "1\n"
     ]
    }
   ],
   "source": [
    "#Data Cleaning and Column Split \n",
    "print(df['Amount(INR)'].min())\n"
   ]
  },
  {
   "cell_type": "code",
   "execution_count": 16,
   "id": "a9aec1c8",
   "metadata": {},
   "outputs": [
    {
     "data": {
      "text/plain": [
       "12000.0"
      ]
     },
     "execution_count": 16,
     "metadata": {},
     "output_type": "execute_result"
    }
   ],
   "source": [
    "df['Amount(INR)'].quantile(0.80)"
   ]
  },
  {
   "cell_type": "code",
   "execution_count": 17,
   "id": "06229dba",
   "metadata": {},
   "outputs": [],
   "source": [
    "# Switching to only relevant data\n",
    "df=df[df['Amount(INR)']<df['Amount(INR)'].quantile(0.80)]\n"
   ]
  },
  {
   "cell_type": "code",
   "execution_count": 18,
   "id": "1bf62f5e",
   "metadata": {},
   "outputs": [
    {
     "data": {
      "text/html": [
       "<div>\n",
       "<style scoped>\n",
       "    .dataframe tbody tr th:only-of-type {\n",
       "        vertical-align: middle;\n",
       "    }\n",
       "\n",
       "    .dataframe tbody tr th {\n",
       "        vertical-align: top;\n",
       "    }\n",
       "\n",
       "    .dataframe thead th {\n",
       "        text-align: right;\n",
       "    }\n",
       "</style>\n",
       "<table border=\"1\" class=\"dataframe\">\n",
       "  <thead>\n",
       "    <tr style=\"text-align: right;\">\n",
       "      <th></th>\n",
       "      <th>Title</th>\n",
       "      <th>Date</th>\n",
       "      <th>Location</th>\n",
       "      <th>Department</th>\n",
       "      <th>Views</th>\n",
       "      <th>Amount(INR)</th>\n",
       "    </tr>\n",
       "  </thead>\n",
       "  <tbody>\n",
       "    <tr>\n",
       "      <th>0</th>\n",
       "      <td>They said it is registration fee for birth cer...</td>\n",
       "      <td>14-10-20</td>\n",
       "      <td>Bangalore,Karnataka</td>\n",
       "      <td>Births, Family and Care</td>\n",
       "      <td>1225</td>\n",
       "      <td>400</td>\n",
       "    </tr>\n",
       "    <tr>\n",
       "      <th>1</th>\n",
       "      <td>Paid bribe for not having insurance during pan...</td>\n",
       "      <td>13-10-20</td>\n",
       "      <td>Bangalore,Karnataka</td>\n",
       "      <td>Vehicle Insurance</td>\n",
       "      <td>1158</td>\n",
       "      <td>350</td>\n",
       "    </tr>\n",
       "    <tr>\n",
       "      <th>2</th>\n",
       "      <td>Forced to pay bribe at KR Puram RTO</td>\n",
       "      <td>13-10-20</td>\n",
       "      <td>Bangalore,Karnataka</td>\n",
       "      <td>Driving and Transport Business</td>\n",
       "      <td>1249</td>\n",
       "      <td>100</td>\n",
       "    </tr>\n",
       "    <tr>\n",
       "      <th>3</th>\n",
       "      <td>Forced to pay 100 rupees bribe for LL test</td>\n",
       "      <td>13-10-20</td>\n",
       "      <td>Bangalore,Karnataka</td>\n",
       "      <td>Driving Licenses and Tests</td>\n",
       "      <td>1044</td>\n",
       "      <td>100</td>\n",
       "    </tr>\n",
       "    <tr>\n",
       "      <th>6</th>\n",
       "      <td>Bribe paid to VAO for patta transfer</td>\n",
       "      <td>10/10/2020</td>\n",
       "      <td>Coimbatore,TamilNadu</td>\n",
       "      <td>Others</td>\n",
       "      <td>1129</td>\n",
       "      <td>5000</td>\n",
       "    </tr>\n",
       "  </tbody>\n",
       "</table>\n",
       "</div>"
      ],
      "text/plain": [
       "                                               Title        Date  \\\n",
       "0  They said it is registration fee for birth cer...    14-10-20   \n",
       "1  Paid bribe for not having insurance during pan...    13-10-20   \n",
       "2                Forced to pay bribe at KR Puram RTO    13-10-20   \n",
       "3         Forced to pay 100 rupees bribe for LL test    13-10-20   \n",
       "6               Bribe paid to VAO for patta transfer  10/10/2020   \n",
       "\n",
       "               Location                      Department  Views  Amount(INR)  \n",
       "0   Bangalore,Karnataka         Births, Family and Care   1225          400  \n",
       "1   Bangalore,Karnataka               Vehicle Insurance   1158          350  \n",
       "2   Bangalore,Karnataka  Driving and Transport Business   1249          100  \n",
       "3   Bangalore,Karnataka      Driving Licenses and Tests   1044          100  \n",
       "6  Coimbatore,TamilNadu                          Others   1129         5000  "
      ]
     },
     "execution_count": 18,
     "metadata": {},
     "output_type": "execute_result"
    }
   ],
   "source": [
    "df.head()"
   ]
  },
  {
   "cell_type": "code",
   "execution_count": 19,
   "id": "a2f75b23",
   "metadata": {},
   "outputs": [
    {
     "data": {
      "text/plain": [
       "(2773, 6)"
      ]
     },
     "execution_count": 19,
     "metadata": {},
     "output_type": "execute_result"
    }
   ],
   "source": [
    "df.shape"
   ]
  },
  {
   "cell_type": "code",
   "execution_count": 20,
   "id": "e8ede5a4",
   "metadata": {},
   "outputs": [
    {
     "data": {
      "image/png": "[encoded data removed]",
      "text/plain": [
       "<Figure size 648x360 with 1 Axes>"
      ]
     },
     "metadata": {
      "needs_background": "light"
     },
     "output_type": "display_data"
    }
   ],
   "source": [
    "sns.histplot(df['Amount(INR)'],kde=True,bins=10);"
   ]
  },
  {
   "cell_type": "code",
   "execution_count": 21,
   "id": "38874229",
   "metadata": {},
   "outputs": [
    {
     "data": {
      "text/plain": [
       "Title          0\n",
       "Date           0\n",
       "Location       0\n",
       "Department     0\n",
       "Views          0\n",
       "Amount(INR)    0\n",
       "dtype: int64"
      ]
     },
     "execution_count": 21,
     "metadata": {},
     "output_type": "execute_result"
    }
   ],
   "source": [
    "df.isnull().sum()"
   ]
  },
  {
   "cell_type": "code",
   "execution_count": null,
   "id": "669ccf74",
   "metadata": {},
   "outputs": [],
   "source": []
  },
  {
   "cell_type": "code",
   "execution_count": 22,
   "id": "0b87dc70",
   "metadata": {},
   "outputs": [
    {
     "data": {
      "text/plain": [
       "array(['Births, Family and Care', 'Vehicle Insurance',\n",
       "       'Driving and Transport Business', 'Driving Licenses and Tests',\n",
       "       'Others', 'Police Clearance Certificate',\n",
       "       'Registrations and Licenses', 'Building and Housing',\n",
       "       'Traffic Fines, Penalties, Rules', 'Excise',\n",
       "       'Policies and Procedures', 'Loan Sanctioning', 'Court Related',\n",
       "       'Verification and Certificates', 'Visa', 'Khata',\n",
       "       'College Leaving Certificate', 'Tax and Permits', 'Autorickshaws',\n",
       "       'Certificates', 'Caste Certificate', 'Dates for Hearing',\n",
       "       'Aadhaar Card Process', 'Excess Baggage', 'Traffic Violations',\n",
       "       'Bill Payment', 'Passport Status and Delivery',\n",
       "       'Land Registration', 'Government Personnel', 'Government Schemes',\n",
       "       'Loans', 'Marriage Certificate and Registration',\n",
       "       'Police Harassment', 'Background Verification', 'Services',\n",
       "       'FIR and Complaints', 'Change of Tariff in Domestic to Commercial',\n",
       "       'Traveling without Ticket', 'Disability Certificate',\n",
       "       'Pension Processing', 'Entry Tax',\n",
       "       'Number Plates and Vehicle Registration', 'False Allegations',\n",
       "       'Property Registration', 'Tax', 'Fire License', 'Notary',\n",
       "       'Issue and Renewal of Passport', 'Hospitals and Medical Care',\n",
       "       'Customs Check and Clearance', 'Savings Scheme',\n",
       "       'LPG Gas Cylinder', 'Aadhaar Card', 'Public Works', 'Domestic',\n",
       "       'Filing FIR', 'Money Order and Passbook',\n",
       "       'School or College Related', 'Professional Tax',\n",
       "       'Bills and Payment', 'Food License', 'Water Connection',\n",
       "       'Ticket and Seat Related', 'Vehicle Fitness',\n",
       "       'Payment and Arrears', 'Sales Tax', 'Electricity Connection',\n",
       "       'Police Verification for Passport', 'Duplicate Driving License',\n",
       "       'Customs', 'Ration Card', 'Driving licence Process',\n",
       "       'Post and Parcel', 'Birth Certificate',\n",
       "       'Protected Forest and Sanctuaries', 'Service Tax',\n",
       "       'Encumbrance Certificate', 'Fines, Penalties and Rules',\n",
       "       'Transport of Luggage and Goods', 'Health Services',\n",
       "       'Caste, Community and Income', 'Timber Related', 'Transformers',\n",
       "       'Employee Grievances', 'Building Construction Approval',\n",
       "       'Employee State Insurance', 'Health and Family',\n",
       "       'Domicile and Residence', 'Lodging Police Complaint',\n",
       "       'Importer Exporter Code', 'Money Order', 'Business Visa', 'VAT',\n",
       "       'Voter Registration', 'Public Transport', 'PAN',\n",
       "       'Disability Related', 'License for Sale of Drugs',\n",
       "       'Religious Institutions', 'Background or Personal Verification',\n",
       "       'Learners License', 'Electric Meters', 'Motor Vehicle Tax',\n",
       "       'Activities on Beat', 'Property Tax', 'Community Certificate',\n",
       "       'Admission to School', 'IT Clearance Certificate',\n",
       "       'Travelling in the wrong compartment', 'Ticket Booking',\n",
       "       'Renewal of Passport', 'Attestation', 'Pension Settlement',\n",
       "       'Vehicle Transport Booking', 'For Seeking Relevant Information',\n",
       "       'Registration of Vehicle', 'Passport Delivery',\n",
       "       'Original Marks Card', 'VAT Refund', 'Affidavit', 'Contract Work',\n",
       "       'Urban Land Ceiling Clearance Certificate', 'Berth Allocation',\n",
       "       'Retrieval of lost items', 'Character Certificate',\n",
       "       'Obtaining Transcripts', 'Change of Tariff',\n",
       "       'Police Investigation', 'Khata Transfer',\n",
       "       'Reconnection of Electricity', '7/12 Extract',\n",
       "       'Registration of Property',\n",
       "       'Change or Correction of Name in License',\n",
       "       'Change of Name in Property documents', 'Marriage Certificate',\n",
       "       'Bribing of Government Officers', 'Demonetisation',\n",
       "       'Patta Document', 'Meter Reading and Checking', 'Crime Incident',\n",
       "       'School or College Related Activities', 'Change of Faulty Meter',\n",
       "       'Income Tax Refund', 'Land or Housing Site Allotment',\n",
       "       'Family Certificate', 'Permission to sell Wood',\n",
       "       'Building Completion Certificate', 'Registration of Mortgage Deed',\n",
       "       'Medical Certificate', 'Speed Post', 'Recruitment',\n",
       "       'Restore Power Supply', 'General RTO related',\n",
       "       'Registration of Flat or Apartment', 'Arrested by Police',\n",
       "       'Railway Police', 'NOC for Transfer of Vehicle Registration',\n",
       "       'Government Hospital', 'Garbage Collection', 'C Form',\n",
       "       'Seat Reservation', 'New Passport Application',\n",
       "       'Delivery of Letters and other Post', 'Extra Charges',\n",
       "       'Airport facilities', 'Marriage Registration',\n",
       "       'Transfer of Alloted Sites', 'Advocate or Legal Services',\n",
       "       'Trade License', 'Immigration Check', 'Title Deed', 'House Tax',\n",
       "       'Passport Status Enquiry', 'New Domestic Driving License',\n",
       "       'Death certificate', 'Residence Certificate', 'Provident Fund',\n",
       "       'Change of Address', 'Construction Permit', 'Subversion of norms',\n",
       "       'License Renewal', 'Labour License Renewal',\n",
       "       'New Connection for Houses', 'Adding Name to Ration Card',\n",
       "       'Assessment', 'Change of Address in Driving License',\n",
       "       'Inspection of Vehicles after Accidents',\n",
       "       'Foreigner Registration and Verification', 'Fitness Certificate',\n",
       "       'Check Post', 'Food Supply', 'Khata Certificate',\n",
       "       'Admission to College', 'New Borewell connection',\n",
       "       'Transfer of Vehicle Registration', 'New Khata Certificate',\n",
       "       'Non Availability Certificate',\n",
       "       'New Labour License and Registration', 'Meter Replacement',\n",
       "       'Smartcard License', 'License Plate', 'Arms License',\n",
       "       'Residence certificate', 'Reissue of Passport',\n",
       "       'Power of Attorney Registration', 'Emission Check Certificate',\n",
       "       'Partition of Property', 'Pension Transfer',\n",
       "       'Electrical Inspection', 'Transformer Maintenance',\n",
       "       'Additional power for High Tension installations',\n",
       "       'Meter Transfer', 'Stamp Duty', 'Application for TDR',\n",
       "       'Land Acquisition', 'New Company or Business Registration',\n",
       "       'VAT Registration', 'Tax Clearance Certificate', 'Filing Taxes',\n",
       "       'Renewal of Domestic Driving License', 'Salary Related',\n",
       "       'New International Driving License', 'Proof of Export',\n",
       "       'Leave and License Agreement', 'Salary Withdrawal',\n",
       "       'Change of Name in Birth Certificate', 'Cremation',\n",
       "       'Tenant Verification', 'Vehicle Registration Extract',\n",
       "       'Sales Tax Clearance Certificate', 'Services at Station',\n",
       "       'Updating Passport', 'Transfer of Property', 'Changes in RC Book',\n",
       "       'Gas Cylinder Supply', 'Registration of Sale Deed',\n",
       "       'Liquor License', 'Post Delivery', 'Subversion of Financial Norms',\n",
       "       'Re registration of Vehicle', 'Service Tax Registration',\n",
       "       'Aadhaar or UID Related', 'Excess Luggage', 'Filing Petition',\n",
       "       'Fitness Certificate for Vehicles', 'Patient Care',\n",
       "       'Food Safety Licence',\n",
       "       'Repair of Telephone or Internet Connection',\n",
       "       'Land or Building Survey', 'VAT Certificate', 'PAN Card Issues',\n",
       "       'Issue of Ration Card', 'TDS',\n",
       "       'Repair of Water and Sewage Connection',\n",
       "       'Reconnection of Disconnected Installations', 'Meter Installation',\n",
       "       'Road Tax', 'TTE', 'Railway Parking', 'Confirmation Report',\n",
       "       'Water Connection under Sajala', 'Billing or Invoice Errors',\n",
       "       'Voter ID Card', 'Change of Address in Registration Certificate',\n",
       "       'Franking of Sale and Construction Agreement', 'Shop Act License',\n",
       "       'Transport of Goods', 'Change or correction of name in bill',\n",
       "       'Change of Name in Records', 'Railway Personnel',\n",
       "       'Cleaning Blocked Sewage Line', 'TIN Application and Number',\n",
       "       'Services like Movement of Poles and Wires',\n",
       "       'Pharmacy Registration and License',\n",
       "       'Verification of property documents', 'Export Inspection',\n",
       "       'Road Permit', 'Survival Certificate', 'Health Certificate',\n",
       "       'Regular Supply of Water', 'Lost or Damaged Passport',\n",
       "       'Change of Name in Passport', 'ECNR Stamp', 'PWD Officers',\n",
       "       'Attendance', 'SSA Related', 'Platform ticket',\n",
       "       'Temporary Connection', 'RTI Application',\n",
       "       'Shop Establishment License', 'Motor Vehicle Inspection',\n",
       "       'Duplicate PAN Card', 'Transfer Certificate',\n",
       "       'Transfer of Residence (TR)', 'Sales Tax Registration',\n",
       "       'Registration of Land', 'Temporary Vehicle Permit',\n",
       "       'Duplicate Registration Certificate', 'Lease Registration',\n",
       "       'Police Protection', 'Nativity Certificate',\n",
       "       'Transfer PF to New Employer', 'New PAN Card',\n",
       "       'Registration of Partition Deed', 'Medical Treatment',\n",
       "       'New internet connection', 'Unfair Legal Proceedings',\n",
       "       'Property Tax Assessment', 'TIN Number',\n",
       "       'WayBill against Imported Goods', 'Transfer of Ration Card',\n",
       "       'Tatkal Passport', 'Change of Tariff in Commercial to Domestic',\n",
       "       'Allowances', 'Excise Tax Collection', 'Regularising Service',\n",
       "       'Transferring Name for Inherited Property',\n",
       "       'Commercial Tax Payment', 'IT scrutiny',\n",
       "       'Permission to Open School', 'Medical Reimbursement claim',\n",
       "       'Enrolment for Aadhaar Card'], dtype=object)"
      ]
     },
     "execution_count": 22,
     "metadata": {},
     "output_type": "execute_result"
    }
   ],
   "source": [
    "### Exploring\n",
    "df.Department.unique()"
   ]
  },
  {
   "cell_type": "code",
   "execution_count": 23,
   "id": "569863e0",
   "metadata": {},
   "outputs": [],
   "source": [
    "df[['City','Province']]=df['Location'].str.split(',',expand=True)"
   ]
  },
  {
   "cell_type": "code",
   "execution_count": 24,
   "id": "becf9482",
   "metadata": {},
   "outputs": [
    {
     "data": {
      "text/html": [
       "<div>\n",
       "<style scoped>\n",
       "    .dataframe tbody tr th:only-of-type {\n",
       "        vertical-align: middle;\n",
       "    }\n",
       "\n",
       "    .dataframe tbody tr th {\n",
       "        vertical-align: top;\n",
       "    }\n",
       "\n",
       "    .dataframe thead th {\n",
       "        text-align: right;\n",
       "    }\n",
       "</style>\n",
       "<table border=\"1\" class=\"dataframe\">\n",
       "  <thead>\n",
       "    <tr style=\"text-align: right;\">\n",
       "      <th></th>\n",
       "      <th>Title</th>\n",
       "      <th>Date</th>\n",
       "      <th>Location</th>\n",
       "      <th>Department</th>\n",
       "      <th>Views</th>\n",
       "      <th>Amount(INR)</th>\n",
       "      <th>City</th>\n",
       "      <th>Province</th>\n",
       "    </tr>\n",
       "  </thead>\n",
       "  <tbody>\n",
       "    <tr>\n",
       "      <th>0</th>\n",
       "      <td>They said it is registration fee for birth cer...</td>\n",
       "      <td>14-10-20</td>\n",
       "      <td>Bangalore,Karnataka</td>\n",
       "      <td>Births, Family and Care</td>\n",
       "      <td>1225</td>\n",
       "      <td>400</td>\n",
       "      <td>Bangalore</td>\n",
       "      <td>Karnataka</td>\n",
       "    </tr>\n",
       "    <tr>\n",
       "      <th>1</th>\n",
       "      <td>Paid bribe for not having insurance during pan...</td>\n",
       "      <td>13-10-20</td>\n",
       "      <td>Bangalore,Karnataka</td>\n",
       "      <td>Vehicle Insurance</td>\n",
       "      <td>1158</td>\n",
       "      <td>350</td>\n",
       "      <td>Bangalore</td>\n",
       "      <td>Karnataka</td>\n",
       "    </tr>\n",
       "    <tr>\n",
       "      <th>2</th>\n",
       "      <td>Forced to pay bribe at KR Puram RTO</td>\n",
       "      <td>13-10-20</td>\n",
       "      <td>Bangalore,Karnataka</td>\n",
       "      <td>Driving and Transport Business</td>\n",
       "      <td>1249</td>\n",
       "      <td>100</td>\n",
       "      <td>Bangalore</td>\n",
       "      <td>Karnataka</td>\n",
       "    </tr>\n",
       "    <tr>\n",
       "      <th>3</th>\n",
       "      <td>Forced to pay 100 rupees bribe for LL test</td>\n",
       "      <td>13-10-20</td>\n",
       "      <td>Bangalore,Karnataka</td>\n",
       "      <td>Driving Licenses and Tests</td>\n",
       "      <td>1044</td>\n",
       "      <td>100</td>\n",
       "      <td>Bangalore</td>\n",
       "      <td>Karnataka</td>\n",
       "    </tr>\n",
       "    <tr>\n",
       "      <th>6</th>\n",
       "      <td>Bribe paid to VAO for patta transfer</td>\n",
       "      <td>10/10/2020</td>\n",
       "      <td>Coimbatore,TamilNadu</td>\n",
       "      <td>Others</td>\n",
       "      <td>1129</td>\n",
       "      <td>5000</td>\n",
       "      <td>Coimbatore</td>\n",
       "      <td>TamilNadu</td>\n",
       "    </tr>\n",
       "  </tbody>\n",
       "</table>\n",
       "</div>"
      ],
      "text/plain": [
       "                                               Title        Date  \\\n",
       "0  They said it is registration fee for birth cer...    14-10-20   \n",
       "1  Paid bribe for not having insurance during pan...    13-10-20   \n",
       "2                Forced to pay bribe at KR Puram RTO    13-10-20   \n",
       "3         Forced to pay 100 rupees bribe for LL test    13-10-20   \n",
       "6               Bribe paid to VAO for patta transfer  10/10/2020   \n",
       "\n",
       "               Location                      Department  Views  Amount(INR)  \\\n",
       "0   Bangalore,Karnataka         Births, Family and Care   1225          400   \n",
       "1   Bangalore,Karnataka               Vehicle Insurance   1158          350   \n",
       "2   Bangalore,Karnataka  Driving and Transport Business   1249          100   \n",
       "3   Bangalore,Karnataka      Driving Licenses and Tests   1044          100   \n",
       "6  Coimbatore,TamilNadu                          Others   1129         5000   \n",
       "\n",
       "         City   Province  \n",
       "0   Bangalore  Karnataka  \n",
       "1   Bangalore  Karnataka  \n",
       "2   Bangalore  Karnataka  \n",
       "3   Bangalore  Karnataka  \n",
       "6  Coimbatore  TamilNadu  "
      ]
     },
     "execution_count": 24,
     "metadata": {},
     "output_type": "execute_result"
    }
   ],
   "source": [
    "df.head()"
   ]
  },
  {
   "cell_type": "code",
   "execution_count": null,
   "id": "075cc546",
   "metadata": {},
   "outputs": [],
   "source": []
  },
  {
   "cell_type": "code",
   "execution_count": 25,
   "id": "d81675d3",
   "metadata": {},
   "outputs": [],
   "source": [
    "#There is no correlation between views and amount."
   ]
  },
  {
   "cell_type": "code",
   "execution_count": 26,
   "id": "66b4cc2c",
   "metadata": {},
   "outputs": [
    {
     "data": {
      "image/png": "[encoded data removed]",
      "text/plain": [
       "<Figure size 648x360 with 2 Axes>"
      ]
     },
     "metadata": {
      "needs_background": "light"
     },
     "output_type": "display_data"
    }
   ],
   "source": [
    "sns.heatmap(df.corr(), annot=True);"
   ]
  },
  {
   "cell_type": "markdown",
   "id": "5f6d5d16",
   "metadata": {},
   "source": [
    "## Most Bribes are paid in which cities?"
   ]
  },
  {
   "cell_type": "code",
   "execution_count": 27,
   "id": "98653743",
   "metadata": {},
   "outputs": [],
   "source": [
    "most_bribe_area=df.groupby(['City'])['Amount(INR)'].agg(['count','sum']).sort_values(by='count',ascending=False)"
   ]
  },
  {
   "cell_type": "code",
   "execution_count": 28,
   "id": "bf06d10b",
   "metadata": {},
   "outputs": [
    {
     "data": {
      "text/html": [
       "<div>\n",
       "<style scoped>\n",
       "    .dataframe tbody tr th:only-of-type {\n",
       "        vertical-align: middle;\n",
       "    }\n",
       "\n",
       "    .dataframe tbody tr th {\n",
       "        vertical-align: top;\n",
       "    }\n",
       "\n",
       "    .dataframe thead th {\n",
       "        text-align: right;\n",
       "    }\n",
       "</style>\n",
       "<table border=\"1\" class=\"dataframe\">\n",
       "  <thead>\n",
       "    <tr style=\"text-align: right;\">\n",
       "      <th></th>\n",
       "      <th>count</th>\n",
       "      <th>sum</th>\n",
       "    </tr>\n",
       "    <tr>\n",
       "      <th>City</th>\n",
       "      <th></th>\n",
       "      <th></th>\n",
       "    </tr>\n",
       "  </thead>\n",
       "  <tbody>\n",
       "    <tr>\n",
       "      <th>Bangalore</th>\n",
       "      <td>611</td>\n",
       "      <td>1127768</td>\n",
       "    </tr>\n",
       "    <tr>\n",
       "      <th>NewDelhi</th>\n",
       "      <td>194</td>\n",
       "      <td>303320</td>\n",
       "    </tr>\n",
       "    <tr>\n",
       "      <th>Chennai</th>\n",
       "      <td>124</td>\n",
       "      <td>229328</td>\n",
       "    </tr>\n",
       "    <tr>\n",
       "      <th>Pune</th>\n",
       "      <td>111</td>\n",
       "      <td>162812</td>\n",
       "    </tr>\n",
       "    <tr>\n",
       "      <th>Mumbai</th>\n",
       "      <td>87</td>\n",
       "      <td>174596</td>\n",
       "    </tr>\n",
       "    <tr>\n",
       "      <th>...</th>\n",
       "      <td>...</td>\n",
       "      <td>...</td>\n",
       "    </tr>\n",
       "    <tr>\n",
       "      <th>Kaithal</th>\n",
       "      <td>1</td>\n",
       "      <td>200</td>\n",
       "    </tr>\n",
       "    <tr>\n",
       "      <th>Kailasahar</th>\n",
       "      <td>1</td>\n",
       "      <td>1200</td>\n",
       "    </tr>\n",
       "    <tr>\n",
       "      <th>Junagadh</th>\n",
       "      <td>1</td>\n",
       "      <td>500</td>\n",
       "    </tr>\n",
       "    <tr>\n",
       "      <th>Jhunjhunun</th>\n",
       "      <td>1</td>\n",
       "      <td>100</td>\n",
       "    </tr>\n",
       "    <tr>\n",
       "      <th>Yellandu</th>\n",
       "      <td>1</td>\n",
       "      <td>8000</td>\n",
       "    </tr>\n",
       "  </tbody>\n",
       "</table>\n",
       "<p>463 rows × 2 columns</p>\n",
       "</div>"
      ],
      "text/plain": [
       "            count      sum\n",
       "City                      \n",
       "Bangalore     611  1127768\n",
       "NewDelhi      194   303320\n",
       "Chennai       124   229328\n",
       "Pune          111   162812\n",
       "Mumbai         87   174596\n",
       "...           ...      ...\n",
       "Kaithal         1      200\n",
       "Kailasahar      1     1200\n",
       "Junagadh        1      500\n",
       "Jhunjhunun      1      100\n",
       "Yellandu        1     8000\n",
       "\n",
       "[463 rows x 2 columns]"
      ]
     },
     "execution_count": 28,
     "metadata": {},
     "output_type": "execute_result"
    }
   ],
   "source": [
    "most_bribe_area"
   ]
  },
  {
   "cell_type": "code",
   "execution_count": 29,
   "id": "aa8ae83a",
   "metadata": {},
   "outputs": [],
   "source": [
    "most_bribe_area.reset_index(inplace=True)"
   ]
  },
  {
   "cell_type": "code",
   "execution_count": 30,
   "id": "e9d58af5",
   "metadata": {},
   "outputs": [
    {
     "data": {
      "text/html": [
       "<div>\n",
       "<style scoped>\n",
       "    .dataframe tbody tr th:only-of-type {\n",
       "        vertical-align: middle;\n",
       "    }\n",
       "\n",
       "    .dataframe tbody tr th {\n",
       "        vertical-align: top;\n",
       "    }\n",
       "\n",
       "    .dataframe thead th {\n",
       "        text-align: right;\n",
       "    }\n",
       "</style>\n",
       "<table border=\"1\" class=\"dataframe\">\n",
       "  <thead>\n",
       "    <tr style=\"text-align: right;\">\n",
       "      <th></th>\n",
       "      <th>City</th>\n",
       "      <th>count</th>\n",
       "      <th>sum</th>\n",
       "    </tr>\n",
       "  </thead>\n",
       "  <tbody>\n",
       "    <tr>\n",
       "      <th>0</th>\n",
       "      <td>Bangalore</td>\n",
       "      <td>611</td>\n",
       "      <td>1127768</td>\n",
       "    </tr>\n",
       "    <tr>\n",
       "      <th>1</th>\n",
       "      <td>NewDelhi</td>\n",
       "      <td>194</td>\n",
       "      <td>303320</td>\n",
       "    </tr>\n",
       "    <tr>\n",
       "      <th>2</th>\n",
       "      <td>Chennai</td>\n",
       "      <td>124</td>\n",
       "      <td>229328</td>\n",
       "    </tr>\n",
       "    <tr>\n",
       "      <th>3</th>\n",
       "      <td>Pune</td>\n",
       "      <td>111</td>\n",
       "      <td>162812</td>\n",
       "    </tr>\n",
       "    <tr>\n",
       "      <th>4</th>\n",
       "      <td>Mumbai</td>\n",
       "      <td>87</td>\n",
       "      <td>174596</td>\n",
       "    </tr>\n",
       "    <tr>\n",
       "      <th>...</th>\n",
       "      <td>...</td>\n",
       "      <td>...</td>\n",
       "      <td>...</td>\n",
       "    </tr>\n",
       "    <tr>\n",
       "      <th>95</th>\n",
       "      <td>Margao</td>\n",
       "      <td>4</td>\n",
       "      <td>11700</td>\n",
       "    </tr>\n",
       "    <tr>\n",
       "      <th>96</th>\n",
       "      <td>Jaunpur</td>\n",
       "      <td>4</td>\n",
       "      <td>5323</td>\n",
       "    </tr>\n",
       "    <tr>\n",
       "      <th>97</th>\n",
       "      <td>Ulhasnagar</td>\n",
       "      <td>4</td>\n",
       "      <td>1700</td>\n",
       "    </tr>\n",
       "    <tr>\n",
       "      <th>98</th>\n",
       "      <td>Pollachi</td>\n",
       "      <td>4</td>\n",
       "      <td>7100</td>\n",
       "    </tr>\n",
       "    <tr>\n",
       "      <th>99</th>\n",
       "      <td>Gulbarga</td>\n",
       "      <td>4</td>\n",
       "      <td>7750</td>\n",
       "    </tr>\n",
       "  </tbody>\n",
       "</table>\n",
       "<p>100 rows × 3 columns</p>\n",
       "</div>"
      ],
      "text/plain": [
       "          City  count      sum\n",
       "0    Bangalore    611  1127768\n",
       "1     NewDelhi    194   303320\n",
       "2      Chennai    124   229328\n",
       "3         Pune    111   162812\n",
       "4       Mumbai     87   174596\n",
       "..         ...    ...      ...\n",
       "95      Margao      4    11700\n",
       "96     Jaunpur      4     5323\n",
       "97  Ulhasnagar      4     1700\n",
       "98    Pollachi      4     7100\n",
       "99    Gulbarga      4     7750\n",
       "\n",
       "[100 rows x 3 columns]"
      ]
     },
     "execution_count": 30,
     "metadata": {},
     "output_type": "execute_result"
    }
   ],
   "source": [
    "most_bribe_area.head(100)"
   ]
  },
  {
   "cell_type": "code",
   "execution_count": 31,
   "id": "fad1ae1c",
   "metadata": {},
   "outputs": [
    {
     "name": "stdout",
     "output_type": "stream",
     "text": [
      "<class 'pandas.core.frame.DataFrame'>\n",
      "RangeIndex: 463 entries, 0 to 462\n",
      "Data columns (total 3 columns):\n",
      " #   Column  Non-Null Count  Dtype \n",
      "---  ------  --------------  ----- \n",
      " 0   City    463 non-null    object\n",
      " 1   count   463 non-null    int64 \n",
      " 2   sum     463 non-null    int64 \n",
      "dtypes: int64(2), object(1)\n",
      "memory usage: 11.0+ KB\n"
     ]
    }
   ],
   "source": [
    "most_bribe_area.info()"
   ]
  },
  {
   "cell_type": "code",
   "execution_count": 32,
   "id": "f6517470",
   "metadata": {},
   "outputs": [
    {
     "name": "stdout",
     "output_type": "stream",
     "text": [
      "<class 'pandas.core.frame.DataFrame'>\n",
      "Int64Index: 2773 entries, 0 to 3471\n",
      "Data columns (total 8 columns):\n",
      " #   Column       Non-Null Count  Dtype \n",
      "---  ------       --------------  ----- \n",
      " 0   Title        2773 non-null   object\n",
      " 1   Date         2773 non-null   object\n",
      " 2   Location     2773 non-null   object\n",
      " 3   Department   2773 non-null   object\n",
      " 4   Views        2773 non-null   int64 \n",
      " 5   Amount(INR)  2773 non-null   int64 \n",
      " 6   City         2773 non-null   object\n",
      " 7   Province     2773 non-null   object\n",
      "dtypes: int64(2), object(6)\n",
      "memory usage: 195.0+ KB\n"
     ]
    }
   ],
   "source": [
    "df.info()"
   ]
  },
  {
   "cell_type": "code",
   "execution_count": 33,
   "id": "617f4be9",
   "metadata": {},
   "outputs": [
    {
     "data": {
      "text/plain": [
       "<AxesSubplot:xlabel='count', ylabel='City'>"
      ]
     },
     "execution_count": 33,
     "metadata": {},
     "output_type": "execute_result"
    },
    {
     "data": {
      "image/png": "[encoded data removed]",
      "text/plain": [
       "<Figure size 648x360 with 1 Axes>"
      ]
     },
     "metadata": {
      "needs_background": "light"
     },
     "output_type": "display_data"
    }
   ],
   "source": [
    "#Most Bribes are paid in which states?\n",
    "sns.barplot(y=most_bribe_area.head(10)['City'],x=most_bribe_area.head(10)['count'])"
   ]
  },
  {
   "cell_type": "code",
   "execution_count": 34,
   "id": "726e3efc",
   "metadata": {},
   "outputs": [
    {
     "data": {
      "image/png": "[encoded data removed]",
      "text/plain": [
       "<Figure size 648x360 with 1 Axes>"
      ]
     },
     "metadata": {
      "needs_background": "light"
     },
     "output_type": "display_data"
    }
   ],
   "source": [
    "most_bribe_city=df.groupby(['City'])['Amount(INR)'].agg(['count','sum']).sort_values(by='count',ascending=False).head(10)\n",
    "sns.barplot(y=most_bribe_city.index,x=most_bribe_city['count']);"
   ]
  },
  {
   "cell_type": "markdown",
   "id": "89f8e3b3",
   "metadata": {},
   "source": [
    "## MOST BRIBES ARE PAID IN BANGLORE"
   ]
  },
  {
   "cell_type": "markdown",
   "id": "4a0ab7cf",
   "metadata": {},
   "source": [
    "##  Most Bribes are paid in which states?"
   ]
  },
  {
   "cell_type": "code",
   "execution_count": 35,
   "id": "7b3f055e",
   "metadata": {},
   "outputs": [
    {
     "data": {
      "image/png": "[encoded data removed]",
      "text/plain": [
       "<Figure size 648x360 with 1 Axes>"
      ]
     },
     "metadata": {
      "needs_background": "light"
     },
     "output_type": "display_data"
    }
   ],
   "source": [
    "most_bribe_province=df.groupby(['Province'])['Amount(INR)'].agg(['count','sum']).sort_values(by='count',ascending=False).head(10)\n",
    "sns.barplot(y=most_bribe_province.index,x=most_bribe_province['count']);"
   ]
  },
  {
   "cell_type": "markdown",
   "id": "489e4d2a",
   "metadata": {},
   "source": [
    "## MOST BRIBES ARE PAID IN KARNATAKA STATE"
   ]
  },
  {
   "cell_type": "markdown",
   "id": "c060b2cb",
   "metadata": {},
   "source": [
    "## Which department gets paid the most bribe?"
   ]
  },
  {
   "cell_type": "code",
   "execution_count": 36,
   "id": "93a3e22a",
   "metadata": {},
   "outputs": [
    {
     "data": {
      "image/png": "[encoded data removed]",
      "text/plain": [
       "<Figure size 648x360 with 1 Axes>"
      ]
     },
     "metadata": {
      "needs_background": "light"
     },
     "output_type": "display_data"
    }
   ],
   "source": [
    "depart_freq=df.groupby('Department')['Amount(INR)'].agg(['count','sum']).sort_values(by='count',ascending=False).head(10)\n",
    "sns.barplot(y=depart_freq.index,x=depart_freq['count']);\n"
   ]
  },
  {
   "cell_type": "markdown",
   "id": "869d5554",
   "metadata": {},
   "source": [
    "## MOST BRIBES ARE TAKEN IN POLICE VERIFICATION FOR PASSPORT DEPARTMENT"
   ]
  },
  {
   "cell_type": "code",
   "execution_count": 37,
   "id": "504d30d2",
   "metadata": {},
   "outputs": [],
   "source": [
    "#Traffic taking the top of lists"
   ]
  },
  {
   "cell_type": "code",
   "execution_count": 38,
   "id": "e9fd890f",
   "metadata": {},
   "outputs": [],
   "source": [
    "#Traffic is higher as expected. Notice there are two bars of traffic."
   ]
  },
  {
   "cell_type": "markdown",
   "id": "c79b1e0a",
   "metadata": {},
   "source": [
    "## Departments which take most bribe on average and overall."
   ]
  },
  {
   "cell_type": "code",
   "execution_count": 39,
   "id": "13add2d7",
   "metadata": {},
   "outputs": [
    {
     "data": {
      "text/html": [
       "<div>\n",
       "<style scoped>\n",
       "    .dataframe tbody tr th:only-of-type {\n",
       "        vertical-align: middle;\n",
       "    }\n",
       "\n",
       "    .dataframe tbody tr th {\n",
       "        vertical-align: top;\n",
       "    }\n",
       "\n",
       "    .dataframe thead th {\n",
       "        text-align: right;\n",
       "    }\n",
       "</style>\n",
       "<table border=\"1\" class=\"dataframe\">\n",
       "  <thead>\n",
       "    <tr style=\"text-align: right;\">\n",
       "      <th></th>\n",
       "      <th>mean</th>\n",
       "      <th>sum</th>\n",
       "    </tr>\n",
       "    <tr>\n",
       "      <th>Department</th>\n",
       "      <th></th>\n",
       "      <th></th>\n",
       "    </tr>\n",
       "  </thead>\n",
       "  <tbody>\n",
       "    <tr>\n",
       "      <th>Others</th>\n",
       "      <td>1706.116550</td>\n",
       "      <td>731924</td>\n",
       "    </tr>\n",
       "    <tr>\n",
       "      <th>Police Verification for Passport</th>\n",
       "      <td>875.608365</td>\n",
       "      <td>230285</td>\n",
       "    </tr>\n",
       "    <tr>\n",
       "      <th>Traffic Violations</th>\n",
       "      <td>742.378723</td>\n",
       "      <td>174459</td>\n",
       "    </tr>\n",
       "    <tr>\n",
       "      <th>Birth Certificate</th>\n",
       "      <td>987.228571</td>\n",
       "      <td>138212</td>\n",
       "    </tr>\n",
       "    <tr>\n",
       "      <th>Police Harassment</th>\n",
       "      <td>2267.777778</td>\n",
       "      <td>102050</td>\n",
       "    </tr>\n",
       "    <tr>\n",
       "      <th>Customs Check and Clearance</th>\n",
       "      <td>3326.400000</td>\n",
       "      <td>99792</td>\n",
       "    </tr>\n",
       "    <tr>\n",
       "      <th>Traffic Fines, Penalties, Rules</th>\n",
       "      <td>911.928571</td>\n",
       "      <td>89369</td>\n",
       "    </tr>\n",
       "    <tr>\n",
       "      <th>Registration of Property</th>\n",
       "      <td>5182.352941</td>\n",
       "      <td>88100</td>\n",
       "    </tr>\n",
       "    <tr>\n",
       "      <th>Land Registration</th>\n",
       "      <td>5285.333333</td>\n",
       "      <td>79280</td>\n",
       "    </tr>\n",
       "    <tr>\n",
       "      <th>FIR and Complaints</th>\n",
       "      <td>2665.384615</td>\n",
       "      <td>69300</td>\n",
       "    </tr>\n",
       "  </tbody>\n",
       "</table>\n",
       "</div>"
      ],
      "text/plain": [
       "                                         mean     sum\n",
       "Department                                           \n",
       "Others                            1706.116550  731924\n",
       "Police Verification for Passport   875.608365  230285\n",
       "Traffic Violations                 742.378723  174459\n",
       "Birth Certificate                  987.228571  138212\n",
       "Police Harassment                 2267.777778  102050\n",
       "Customs Check and Clearance       3326.400000   99792\n",
       "Traffic Fines, Penalties, Rules    911.928571   89369\n",
       "Registration of Property          5182.352941   88100\n",
       "Land Registration                 5285.333333   79280\n",
       "FIR and Complaints                2665.384615   69300"
      ]
     },
     "execution_count": 39,
     "metadata": {},
     "output_type": "execute_result"
    }
   ],
   "source": [
    "depart_sum=df.groupby('Department')['Amount(INR)'].agg(['mean','sum']).sort_values(by='sum',ascending=False).head(10)\n",
    "depart_sum"
   ]
  },
  {
   "cell_type": "code",
   "execution_count": 40,
   "id": "f56d7117",
   "metadata": {},
   "outputs": [
    {
     "data": {
      "image/png": "[encoded data removed]",
      "text/plain": [
       "<Figure size 648x360 with 1 Axes>"
      ]
     },
     "metadata": {
      "needs_background": "light"
     },
     "output_type": "display_data"
    }
   ],
   "source": [
    "sns.barplot(y=depart_sum.index,x=depart_sum['sum']);"
   ]
  },
  {
   "cell_type": "code",
   "execution_count": 41,
   "id": "5253309d",
   "metadata": {},
   "outputs": [
    {
     "data": {
      "image/png": "[encoded data removed]",
      "text/plain": [
       "<Figure size 648x360 with 1 Axes>"
      ]
     },
     "metadata": {
      "needs_background": "light"
     },
     "output_type": "display_data"
    }
   ],
   "source": [
    "depart_mean=df.groupby('Department')['Amount(INR)'].agg(['mean','sum']).sort_values(by='mean',ascending=False).head(10)\n",
    "depart_mean\n",
    "sns.barplot(y=depart_mean.index,x=depart_mean['mean']);"
   ]
  },
  {
   "cell_type": "code",
   "execution_count": 42,
   "id": "c5792bcf",
   "metadata": {},
   "outputs": [],
   "source": [
    "#Time Series Analysis"
   ]
  },
  {
   "cell_type": "code",
   "execution_count": 43,
   "id": "fe76f001",
   "metadata": {},
   "outputs": [
    {
     "data": {
      "text/html": [
       "<div>\n",
       "<style scoped>\n",
       "    .dataframe tbody tr th:only-of-type {\n",
       "        vertical-align: middle;\n",
       "    }\n",
       "\n",
       "    .dataframe tbody tr th {\n",
       "        vertical-align: top;\n",
       "    }\n",
       "\n",
       "    .dataframe thead th {\n",
       "        text-align: right;\n",
       "    }\n",
       "</style>\n",
       "<table border=\"1\" class=\"dataframe\">\n",
       "  <thead>\n",
       "    <tr style=\"text-align: right;\">\n",
       "      <th></th>\n",
       "      <th>Amount(INR)</th>\n",
       "      <th>Date</th>\n",
       "    </tr>\n",
       "  </thead>\n",
       "  <tbody>\n",
       "    <tr>\n",
       "      <th>0</th>\n",
       "      <td>400</td>\n",
       "      <td>14-10-20</td>\n",
       "    </tr>\n",
       "    <tr>\n",
       "      <th>1</th>\n",
       "      <td>350</td>\n",
       "      <td>13-10-20</td>\n",
       "    </tr>\n",
       "    <tr>\n",
       "      <th>2</th>\n",
       "      <td>100</td>\n",
       "      <td>13-10-20</td>\n",
       "    </tr>\n",
       "    <tr>\n",
       "      <th>3</th>\n",
       "      <td>100</td>\n",
       "      <td>13-10-20</td>\n",
       "    </tr>\n",
       "    <tr>\n",
       "      <th>6</th>\n",
       "      <td>5000</td>\n",
       "      <td>10/10/2020</td>\n",
       "    </tr>\n",
       "  </tbody>\n",
       "</table>\n",
       "</div>"
      ],
      "text/plain": [
       "   Amount(INR)        Date\n",
       "0          400    14-10-20\n",
       "1          350    13-10-20\n",
       "2          100    13-10-20\n",
       "3          100    13-10-20\n",
       "6         5000  10/10/2020"
      ]
     },
     "execution_count": 43,
     "metadata": {},
     "output_type": "execute_result"
    }
   ],
   "source": [
    "df_day=df[[\"Amount(INR)\",'Date']].copy()\n",
    "df_day.head()\n"
   ]
  },
  {
   "cell_type": "code",
   "execution_count": 44,
   "id": "af98453a",
   "metadata": {},
   "outputs": [
    {
     "data": {
      "text/html": [
       "<div>\n",
       "<style scoped>\n",
       "    .dataframe tbody tr th:only-of-type {\n",
       "        vertical-align: middle;\n",
       "    }\n",
       "\n",
       "    .dataframe tbody tr th {\n",
       "        vertical-align: top;\n",
       "    }\n",
       "\n",
       "    .dataframe thead th {\n",
       "        text-align: right;\n",
       "    }\n",
       "</style>\n",
       "<table border=\"1\" class=\"dataframe\">\n",
       "  <thead>\n",
       "    <tr style=\"text-align: right;\">\n",
       "      <th></th>\n",
       "      <th>Amount(INR)</th>\n",
       "      <th>Date</th>\n",
       "    </tr>\n",
       "  </thead>\n",
       "  <tbody>\n",
       "    <tr>\n",
       "      <th>3466</th>\n",
       "      <td>200</td>\n",
       "      <td>30-10-15</td>\n",
       "    </tr>\n",
       "    <tr>\n",
       "      <th>3468</th>\n",
       "      <td>33</td>\n",
       "      <td>30-10-15</td>\n",
       "    </tr>\n",
       "    <tr>\n",
       "      <th>3469</th>\n",
       "      <td>10</td>\n",
       "      <td>30-10-15</td>\n",
       "    </tr>\n",
       "    <tr>\n",
       "      <th>3470</th>\n",
       "      <td>500</td>\n",
       "      <td>30-10-15</td>\n",
       "    </tr>\n",
       "    <tr>\n",
       "      <th>3471</th>\n",
       "      <td>800</td>\n",
       "      <td>30-10-15</td>\n",
       "    </tr>\n",
       "  </tbody>\n",
       "</table>\n",
       "</div>"
      ],
      "text/plain": [
       "      Amount(INR)      Date\n",
       "3466          200  30-10-15\n",
       "3468           33  30-10-15\n",
       "3469           10  30-10-15\n",
       "3470          500  30-10-15\n",
       "3471          800  30-10-15"
      ]
     },
     "execution_count": 44,
     "metadata": {},
     "output_type": "execute_result"
    }
   ],
   "source": [
    "df_day.tail()"
   ]
  },
  {
   "cell_type": "code",
   "execution_count": 45,
   "id": "ae482d54",
   "metadata": {},
   "outputs": [
    {
     "name": "stdout",
     "output_type": "stream",
     "text": [
      "<class 'pandas.core.frame.DataFrame'>\n",
      "Int64Index: 2773 entries, 0 to 3471\n",
      "Data columns (total 2 columns):\n",
      " #   Column       Non-Null Count  Dtype \n",
      "---  ------       --------------  ----- \n",
      " 0   Amount(INR)  2773 non-null   int64 \n",
      " 1   Date         2773 non-null   object\n",
      "dtypes: int64(1), object(1)\n",
      "memory usage: 65.0+ KB\n"
     ]
    }
   ],
   "source": [
    "df_day.info()"
   ]
  },
  {
   "cell_type": "code",
   "execution_count": 46,
   "id": "5789a41e",
   "metadata": {},
   "outputs": [],
   "source": [
    "# convert the date in datetime data type\n",
    "df_day[\"Date\"] = pd.to_datetime(df['Date'])\n"
   ]
  },
  {
   "cell_type": "code",
   "execution_count": 47,
   "id": "58550b7b",
   "metadata": {},
   "outputs": [
    {
     "data": {
      "text/plain": [
       "0      2020-10-14\n",
       "1      2020-10-13\n",
       "2      2020-10-13\n",
       "3      2020-10-13\n",
       "6      2020-10-10\n",
       "          ...    \n",
       "3466   2015-10-30\n",
       "3468   2015-10-30\n",
       "3469   2015-10-30\n",
       "3470   2015-10-30\n",
       "3471   2015-10-30\n",
       "Name: Date, Length: 2773, dtype: datetime64[ns]"
      ]
     },
     "execution_count": 47,
     "metadata": {},
     "output_type": "execute_result"
    }
   ],
   "source": [
    "df_day[\"Date\"]"
   ]
  },
  {
   "cell_type": "code",
   "execution_count": 48,
   "id": "63c082da",
   "metadata": {},
   "outputs": [
    {
     "name": "stdout",
     "output_type": "stream",
     "text": [
      "<class 'pandas.core.frame.DataFrame'>\n",
      "Int64Index: 2773 entries, 0 to 3471\n",
      "Data columns (total 2 columns):\n",
      " #   Column       Non-Null Count  Dtype         \n",
      "---  ------       --------------  -----         \n",
      " 0   Amount(INR)  2773 non-null   int64         \n",
      " 1   Date         2773 non-null   datetime64[ns]\n",
      "dtypes: datetime64[ns](1), int64(1)\n",
      "memory usage: 65.0 KB\n"
     ]
    }
   ],
   "source": [
    "df_day.info()"
   ]
  },
  {
   "cell_type": "code",
   "execution_count": 49,
   "id": "5bb2ee29",
   "metadata": {},
   "outputs": [],
   "source": [
    "df1_day=df_day.copy()"
   ]
  },
  {
   "cell_type": "code",
   "execution_count": 50,
   "id": "e48a8459",
   "metadata": {},
   "outputs": [
    {
     "name": "stdout",
     "output_type": "stream",
     "text": [
      "<class 'pandas.core.frame.DataFrame'>\n",
      "Int64Index: 2773 entries, 0 to 3471\n",
      "Data columns (total 2 columns):\n",
      " #   Column       Non-Null Count  Dtype         \n",
      "---  ------       --------------  -----         \n",
      " 0   Amount(INR)  2773 non-null   int64         \n",
      " 1   Date         2773 non-null   datetime64[ns]\n",
      "dtypes: datetime64[ns](1), int64(1)\n",
      "memory usage: 65.0 KB\n"
     ]
    }
   ],
   "source": [
    "df1_day.info()"
   ]
  },
  {
   "cell_type": "code",
   "execution_count": 51,
   "id": "d1d810ff",
   "metadata": {},
   "outputs": [],
   "source": [
    "# extration of  day_name,day,week,year,month,dayofweek"
   ]
  },
  {
   "cell_type": "code",
   "execution_count": 52,
   "id": "83ed98bd",
   "metadata": {},
   "outputs": [],
   "source": [
    "#dt.day_name()\n",
    "#dt.day\n",
    "#dt.week\n",
    "#dt.year\n",
    "#dt.month\n",
    "#dt.dayofweek"
   ]
  },
  {
   "cell_type": "code",
   "execution_count": 53,
   "id": "70b963fd",
   "metadata": {},
   "outputs": [
    {
     "data": {
      "text/plain": [
       "'\\n# Extract Datetime (InvoiceDate) into Day\\nimport datetime as dt\\n\\ndf_day[\"Day\"] = df_day[\\'Date\\'].dt.day\\ndf_day\\n\\ndf_day[\"Day_name\"] = df_day[\\'Date\\'].dt.day_name()\\n\\n#dt.day_name()\\n#dt.day\\n#dt.week\\n#dt.year\\n#dt.month\\n#dt.dayofweek\\n'"
      ]
     },
     "execution_count": 53,
     "metadata": {},
     "output_type": "execute_result"
    }
   ],
   "source": [
    "\"\"\"\n",
    "# Extract Datetime (InvoiceDate) into Day\n",
    "import datetime as dt\n",
    "\n",
    "df_day[\"Day\"] = df_day['Date'].dt.day\n",
    "df_day\n",
    "\n",
    "df_day[\"Day_name\"] = df_day['Date'].dt.day_name()\n",
    "\n",
    "#dt.day_name()\n",
    "#dt.day\n",
    "#dt.week\n",
    "#dt.year\n",
    "#dt.month\n",
    "#dt.dayofweek\n",
    "\"\"\""
   ]
  },
  {
   "cell_type": "code",
   "execution_count": 54,
   "id": "0fe6dfb8",
   "metadata": {},
   "outputs": [],
   "source": [
    "#df_day['Date'].apply(lambda x : int(x.year))"
   ]
  },
  {
   "cell_type": "code",
   "execution_count": 55,
   "id": "868e9bcf",
   "metadata": {},
   "outputs": [
    {
     "data": {
      "text/html": [
       "<div>\n",
       "<style scoped>\n",
       "    .dataframe tbody tr th:only-of-type {\n",
       "        vertical-align: middle;\n",
       "    }\n",
       "\n",
       "    .dataframe tbody tr th {\n",
       "        vertical-align: top;\n",
       "    }\n",
       "\n",
       "    .dataframe thead th {\n",
       "        text-align: right;\n",
       "    }\n",
       "</style>\n",
       "<table border=\"1\" class=\"dataframe\">\n",
       "  <thead>\n",
       "    <tr style=\"text-align: right;\">\n",
       "      <th></th>\n",
       "      <th>Amount(INR)</th>\n",
       "      <th>Date</th>\n",
       "      <th>Day_of_month</th>\n",
       "    </tr>\n",
       "  </thead>\n",
       "  <tbody>\n",
       "    <tr>\n",
       "      <th>0</th>\n",
       "      <td>400</td>\n",
       "      <td>2020-10-14</td>\n",
       "      <td>14</td>\n",
       "    </tr>\n",
       "    <tr>\n",
       "      <th>1</th>\n",
       "      <td>350</td>\n",
       "      <td>2020-10-13</td>\n",
       "      <td>13</td>\n",
       "    </tr>\n",
       "    <tr>\n",
       "      <th>2</th>\n",
       "      <td>100</td>\n",
       "      <td>2020-10-13</td>\n",
       "      <td>13</td>\n",
       "    </tr>\n",
       "    <tr>\n",
       "      <th>3</th>\n",
       "      <td>100</td>\n",
       "      <td>2020-10-13</td>\n",
       "      <td>13</td>\n",
       "    </tr>\n",
       "    <tr>\n",
       "      <th>6</th>\n",
       "      <td>5000</td>\n",
       "      <td>2020-10-10</td>\n",
       "      <td>10</td>\n",
       "    </tr>\n",
       "    <tr>\n",
       "      <th>...</th>\n",
       "      <td>...</td>\n",
       "      <td>...</td>\n",
       "      <td>...</td>\n",
       "    </tr>\n",
       "    <tr>\n",
       "      <th>3466</th>\n",
       "      <td>200</td>\n",
       "      <td>2015-10-30</td>\n",
       "      <td>30</td>\n",
       "    </tr>\n",
       "    <tr>\n",
       "      <th>3468</th>\n",
       "      <td>33</td>\n",
       "      <td>2015-10-30</td>\n",
       "      <td>30</td>\n",
       "    </tr>\n",
       "    <tr>\n",
       "      <th>3469</th>\n",
       "      <td>10</td>\n",
       "      <td>2015-10-30</td>\n",
       "      <td>30</td>\n",
       "    </tr>\n",
       "    <tr>\n",
       "      <th>3470</th>\n",
       "      <td>500</td>\n",
       "      <td>2015-10-30</td>\n",
       "      <td>30</td>\n",
       "    </tr>\n",
       "    <tr>\n",
       "      <th>3471</th>\n",
       "      <td>800</td>\n",
       "      <td>2015-10-30</td>\n",
       "      <td>30</td>\n",
       "    </tr>\n",
       "  </tbody>\n",
       "</table>\n",
       "<p>2773 rows × 3 columns</p>\n",
       "</div>"
      ],
      "text/plain": [
       "      Amount(INR)       Date  Day_of_month\n",
       "0             400 2020-10-14            14\n",
       "1             350 2020-10-13            13\n",
       "2             100 2020-10-13            13\n",
       "3             100 2020-10-13            13\n",
       "6            5000 2020-10-10            10\n",
       "...           ...        ...           ...\n",
       "3466          200 2015-10-30            30\n",
       "3468           33 2015-10-30            30\n",
       "3469           10 2015-10-30            30\n",
       "3470          500 2015-10-30            30\n",
       "3471          800 2015-10-30            30\n",
       "\n",
       "[2773 rows x 3 columns]"
      ]
     },
     "execution_count": 55,
     "metadata": {},
     "output_type": "execute_result"
    }
   ],
   "source": [
    "df_day[\"Day_of_month\"] = df_day['Date'].apply(lambda x :int(x.day))\n",
    "df_day"
   ]
  },
  {
   "cell_type": "code",
   "execution_count": 56,
   "id": "fb010fd3",
   "metadata": {},
   "outputs": [
    {
     "data": {
      "text/html": [
       "<div>\n",
       "<style scoped>\n",
       "    .dataframe tbody tr th:only-of-type {\n",
       "        vertical-align: middle;\n",
       "    }\n",
       "\n",
       "    .dataframe tbody tr th {\n",
       "        vertical-align: top;\n",
       "    }\n",
       "\n",
       "    .dataframe thead th {\n",
       "        text-align: right;\n",
       "    }\n",
       "</style>\n",
       "<table border=\"1\" class=\"dataframe\">\n",
       "  <thead>\n",
       "    <tr style=\"text-align: right;\">\n",
       "      <th></th>\n",
       "      <th>Amount(INR)</th>\n",
       "      <th>Date</th>\n",
       "      <th>Day_of_month</th>\n",
       "    </tr>\n",
       "  </thead>\n",
       "  <tbody>\n",
       "    <tr>\n",
       "      <th>0</th>\n",
       "      <td>400</td>\n",
       "      <td>2020-10-14</td>\n",
       "      <td>14</td>\n",
       "    </tr>\n",
       "    <tr>\n",
       "      <th>1</th>\n",
       "      <td>350</td>\n",
       "      <td>2020-10-13</td>\n",
       "      <td>13</td>\n",
       "    </tr>\n",
       "    <tr>\n",
       "      <th>2</th>\n",
       "      <td>100</td>\n",
       "      <td>2020-10-13</td>\n",
       "      <td>13</td>\n",
       "    </tr>\n",
       "    <tr>\n",
       "      <th>3</th>\n",
       "      <td>100</td>\n",
       "      <td>2020-10-13</td>\n",
       "      <td>13</td>\n",
       "    </tr>\n",
       "    <tr>\n",
       "      <th>6</th>\n",
       "      <td>5000</td>\n",
       "      <td>2020-10-10</td>\n",
       "      <td>10</td>\n",
       "    </tr>\n",
       "  </tbody>\n",
       "</table>\n",
       "</div>"
      ],
      "text/plain": [
       "   Amount(INR)       Date  Day_of_month\n",
       "0          400 2020-10-14            14\n",
       "1          350 2020-10-13            13\n",
       "2          100 2020-10-13            13\n",
       "3          100 2020-10-13            13\n",
       "6         5000 2020-10-10            10"
      ]
     },
     "execution_count": 56,
     "metadata": {},
     "output_type": "execute_result"
    }
   ],
   "source": [
    "df_day.head()"
   ]
  },
  {
   "cell_type": "code",
   "execution_count": 57,
   "id": "f7824d0d",
   "metadata": {},
   "outputs": [],
   "source": [
    "#df_day[\"Day_new_method\"] = df_day['Date'].dt.day_name()\n",
    "#df_day"
   ]
  },
  {
   "cell_type": "code",
   "execution_count": 58,
   "id": "a4080f00",
   "metadata": {},
   "outputs": [],
   "source": [
    "df_day[\"Week_of_year\"]=df_day[\"Date\"].apply(lambda x : int(x.week))\n",
    "df_day[\"Year\"]=df_day[\"Date\"].apply(lambda x : int(x.year))\n",
    "df_day[\"Month\"]=df_day[\"Date\"].apply(lambda x : int(x.month))\n",
    "df_day['Day_of_week']=df_day['Date'].apply(lambda x : int(x.dayofweek))"
   ]
  },
  {
   "cell_type": "code",
   "execution_count": 59,
   "id": "a66aeeb6",
   "metadata": {},
   "outputs": [
    {
     "data": {
      "text/plain": [
       "array([2, 1, 5, 3, 0, 6, 4], dtype=int64)"
      ]
     },
     "execution_count": 59,
     "metadata": {},
     "output_type": "execute_result"
    }
   ],
   "source": [
    "df_day['Day_of_week'].unique()"
   ]
  },
  {
   "cell_type": "code",
   "execution_count": 60,
   "id": "a8f4be10",
   "metadata": {},
   "outputs": [],
   "source": [
    "df_day['Day_name']=df_day['Date'].apply(lambda x : x.day_name())"
   ]
  },
  {
   "cell_type": "code",
   "execution_count": 61,
   "id": "bc094b2d",
   "metadata": {},
   "outputs": [
    {
     "data": {
      "text/html": [
       "<div>\n",
       "<style scoped>\n",
       "    .dataframe tbody tr th:only-of-type {\n",
       "        vertical-align: middle;\n",
       "    }\n",
       "\n",
       "    .dataframe tbody tr th {\n",
       "        vertical-align: top;\n",
       "    }\n",
       "\n",
       "    .dataframe thead th {\n",
       "        text-align: right;\n",
       "    }\n",
       "</style>\n",
       "<table border=\"1\" class=\"dataframe\">\n",
       "  <thead>\n",
       "    <tr style=\"text-align: right;\">\n",
       "      <th></th>\n",
       "      <th>Amount(INR)</th>\n",
       "      <th>Date</th>\n",
       "      <th>Day_of_month</th>\n",
       "      <th>Week_of_year</th>\n",
       "      <th>Year</th>\n",
       "      <th>Month</th>\n",
       "      <th>Day_of_week</th>\n",
       "      <th>Day_name</th>\n",
       "    </tr>\n",
       "  </thead>\n",
       "  <tbody>\n",
       "    <tr>\n",
       "      <th>0</th>\n",
       "      <td>400</td>\n",
       "      <td>2020-10-14</td>\n",
       "      <td>14</td>\n",
       "      <td>42</td>\n",
       "      <td>2020</td>\n",
       "      <td>10</td>\n",
       "      <td>2</td>\n",
       "      <td>Wednesday</td>\n",
       "    </tr>\n",
       "    <tr>\n",
       "      <th>1</th>\n",
       "      <td>350</td>\n",
       "      <td>2020-10-13</td>\n",
       "      <td>13</td>\n",
       "      <td>42</td>\n",
       "      <td>2020</td>\n",
       "      <td>10</td>\n",
       "      <td>1</td>\n",
       "      <td>Tuesday</td>\n",
       "    </tr>\n",
       "    <tr>\n",
       "      <th>2</th>\n",
       "      <td>100</td>\n",
       "      <td>2020-10-13</td>\n",
       "      <td>13</td>\n",
       "      <td>42</td>\n",
       "      <td>2020</td>\n",
       "      <td>10</td>\n",
       "      <td>1</td>\n",
       "      <td>Tuesday</td>\n",
       "    </tr>\n",
       "    <tr>\n",
       "      <th>3</th>\n",
       "      <td>100</td>\n",
       "      <td>2020-10-13</td>\n",
       "      <td>13</td>\n",
       "      <td>42</td>\n",
       "      <td>2020</td>\n",
       "      <td>10</td>\n",
       "      <td>1</td>\n",
       "      <td>Tuesday</td>\n",
       "    </tr>\n",
       "    <tr>\n",
       "      <th>6</th>\n",
       "      <td>5000</td>\n",
       "      <td>2020-10-10</td>\n",
       "      <td>10</td>\n",
       "      <td>41</td>\n",
       "      <td>2020</td>\n",
       "      <td>10</td>\n",
       "      <td>5</td>\n",
       "      <td>Saturday</td>\n",
       "    </tr>\n",
       "  </tbody>\n",
       "</table>\n",
       "</div>"
      ],
      "text/plain": [
       "   Amount(INR)       Date  Day_of_month  Week_of_year  Year  Month  \\\n",
       "0          400 2020-10-14            14            42  2020     10   \n",
       "1          350 2020-10-13            13            42  2020     10   \n",
       "2          100 2020-10-13            13            42  2020     10   \n",
       "3          100 2020-10-13            13            42  2020     10   \n",
       "6         5000 2020-10-10            10            41  2020     10   \n",
       "\n",
       "   Day_of_week   Day_name  \n",
       "0            2  Wednesday  \n",
       "1            1    Tuesday  \n",
       "2            1    Tuesday  \n",
       "3            1    Tuesday  \n",
       "6            5   Saturday  "
      ]
     },
     "execution_count": 61,
     "metadata": {},
     "output_type": "execute_result"
    }
   ],
   "source": [
    "df_day.head()"
   ]
  },
  {
   "cell_type": "code",
   "execution_count": 62,
   "id": "ce964b97",
   "metadata": {},
   "outputs": [
    {
     "data": {
      "text/plain": [
       "'\\ndf_day[\"Day_of_month\"]=df[\"Date\"].dt.day\\ndf_day[\"Week_of_year\"]=df[\"Date\"].dt.week\\ndf_day[\"Year\"]=df[\"Date\"].dt.year\\ndf_day[\"Month\"]=df[\"Date\"].dt.month\\ndf_day[\\'Day_of_week\\']=df[\\'Date\\'].dt.dayofweek\\n'"
      ]
     },
     "execution_count": 62,
     "metadata": {},
     "output_type": "execute_result"
    }
   ],
   "source": [
    "\"\"\"\n",
    "df_day[\"Day_of_month\"]=df[\"Date\"].dt.day\n",
    "df_day[\"Week_of_year\"]=df[\"Date\"].dt.week\n",
    "df_day[\"Year\"]=df[\"Date\"].dt.year\n",
    "df_day[\"Month\"]=df[\"Date\"].dt.month\n",
    "df_day['Day_of_week']=df['Date'].dt.dayofweek\n",
    "\"\"\""
   ]
  },
  {
   "cell_type": "markdown",
   "id": "40419549",
   "metadata": {},
   "source": [
    "## Bribes paid by days of the month"
   ]
  },
  {
   "cell_type": "code",
   "execution_count": 63,
   "id": "76475775",
   "metadata": {},
   "outputs": [
    {
     "data": {
      "image/png": "[encoded data removed]",
      "text/plain": [
       "<Figure size 648x360 with 1 Axes>"
      ]
     },
     "metadata": {
      "needs_background": "light"
     },
     "output_type": "display_data"
    }
   ],
   "source": [
    "sns.histplot(data=df_day[\"Day_of_month\"],bins=31)\n",
    "plt.ylabel(\"Number of bribes taken\")\n",
    "plt.title(\"Days of the Month\");"
   ]
  },
  {
   "cell_type": "markdown",
   "id": "f015d40f",
   "metadata": {},
   "source": [
    "## Bribes paid by days of the week"
   ]
  },
  {
   "cell_type": "code",
   "execution_count": 64,
   "id": "23e6d36b",
   "metadata": {},
   "outputs": [
    {
     "data": {
      "image/png": "[encoded data removed]",
      "text/plain": [
       "<Figure size 648x360 with 1 Axes>"
      ]
     },
     "metadata": {
      "needs_background": "light"
     },
     "output_type": "display_data"
    }
   ],
   "source": [
    "sns.histplot(data=df_day[\"Day_of_week\"],bins=7)\n",
    "plt.ylabel(\"Number of bribes taken\")\n",
    "plt.title(\"Days of the week\");"
   ]
  },
  {
   "cell_type": "markdown",
   "id": "ffcc024c",
   "metadata": {},
   "source": [
    "## Bribes paid by Years"
   ]
  },
  {
   "cell_type": "code",
   "execution_count": 65,
   "id": "fc6a3c73",
   "metadata": {},
   "outputs": [
    {
     "data": {
      "image/png": "[encoded data removed]",
      "text/plain": [
       "<Figure size 648x360 with 1 Axes>"
      ]
     },
     "metadata": {
      "needs_background": "light"
     },
     "output_type": "display_data"
    }
   ],
   "source": [
    "sns.histplot(data=df_day[\"Year\"])\n",
    "plt.ylabel(\"Number of bribes taken\")\n",
    "plt.title(\"Years\");"
   ]
  },
  {
   "cell_type": "markdown",
   "id": "314aec07",
   "metadata": {},
   "source": [
    "## MOSt BRIBES ARE TAKEN IN YEAR 2016"
   ]
  },
  {
   "cell_type": "markdown",
   "id": "c4cef655",
   "metadata": {},
   "source": [
    "## Bribes paid by month"
   ]
  },
  {
   "cell_type": "code",
   "execution_count": 66,
   "id": "138bb60f",
   "metadata": {},
   "outputs": [
    {
     "data": {
      "image/png": "[encoded data removed]",
      "text/plain": [
       "<Figure size 648x360 with 1 Axes>"
      ]
     },
     "metadata": {
      "needs_background": "light"
     },
     "output_type": "display_data"
    }
   ],
   "source": [
    "sns.histplot(data=df_day[\"Month\"],bins=12)\n",
    "plt.ylabel(\"Number of bribes taken\")\n",
    "plt.title(\"Bribes paid per month\");"
   ]
  },
  {
   "cell_type": "markdown",
   "id": "8f2e9d0e",
   "metadata": {},
   "source": [
    "## MOST BRIBES ARE TAKEN IN MARCH MONTH"
   ]
  },
  {
   "cell_type": "markdown",
   "id": "f16ac4ca",
   "metadata": {},
   "source": [
    "## Bribes taken by days of the week"
   ]
  },
  {
   "cell_type": "code",
   "execution_count": 67,
   "id": "f841295f",
   "metadata": {},
   "outputs": [
    {
     "data": {
      "image/png": "[encoded data removed]",
      "text/plain": [
       "<Figure size 648x360 with 1 Axes>"
      ]
     },
     "metadata": {
      "needs_background": "light"
     },
     "output_type": "display_data"
    }
   ],
   "source": [
    "sns.histplot(data=df_day[\"Day_of_week\"],bins=7)\n",
    "plt.ylabel(\"Number of bribes taken\")\n",
    "plt.title(\"Days of the WEEK\")\n",
    "plt.xticks([0, 1, 2,3,4,5,6], ['Monday','Tuesday','Wednesday','Thursday','Friday','Saturday','Sunday'],rotation=90);"
   ]
  },
  {
   "cell_type": "markdown",
   "id": "81a36fae",
   "metadata": {},
   "source": [
    "## MOST BRIBES ARE TAKEN ON WEDNESDAY"
   ]
  },
  {
   "cell_type": "code",
   "execution_count": 68,
   "id": "45963024",
   "metadata": {},
   "outputs": [],
   "source": [
    "#It is intresting to note that On Sunday bribes are paid less often"
   ]
  },
  {
   "cell_type": "code",
   "execution_count": 69,
   "id": "2b26574b",
   "metadata": {},
   "outputs": [
    {
     "data": {
      "text/plain": [
       "<AxesSubplot:>"
      ]
     },
     "execution_count": 69,
     "metadata": {},
     "output_type": "execute_result"
    },
    {
     "data": {
      "image/png": "[encoded data removed]",
      "text/plain": [
       "<Figure size 648x360 with 2 Axes>"
      ]
     },
     "metadata": {
      "needs_background": "light"
     },
     "output_type": "display_data"
    }
   ],
   "source": [
    "sns.heatmap(df_day.corr(),annot=True)"
   ]
  },
  {
   "cell_type": "code",
   "execution_count": 70,
   "id": "f84f27a8",
   "metadata": {},
   "outputs": [
    {
     "data": {
      "text/plain": [
       "'\\nConclusion :\\n\\nIn Banglore, the highest and most numbers of bribes are paid.\\nKarnataka is the state where Bribes are paid the most.\\nThe POlice verification for passport Department gets has the highest bribes taking count.\\nBribes are taken less frequently on Sundays.\\nHighest number of bribes taking cases are reported in 2016 and 2019.\\n\\n'"
      ]
     },
     "execution_count": 70,
     "metadata": {},
     "output_type": "execute_result"
    }
   ],
   "source": [
    "\"\"\"\n",
    "Conclusion :\n",
    "\n",
    "In Banglore, the highest and most numbers of bribes are paid.\n",
    "Karnataka is the state where Bribes are paid the most.\n",
    "The POlice verification for passport Department gets has the highest bribes taking count.\n",
    "Bribes are taken less frequently on Sundays.\n",
    "Highest number of bribes taking cases are reported in 2016 and 2019.\n",
    "\n",
    "\"\"\""
   ]
  },
  {
   "cell_type": "code",
   "execution_count": null,
   "id": "165df8ec",
   "metadata": {},
   "outputs": [],
   "source": []
  },
  {
   "cell_type": "code",
   "execution_count": null,
   "id": "d196dd65",
   "metadata": {},
   "outputs": [],
   "source": []
  },
  {
   "cell_type": "code",
   "execution_count": null,
   "id": "b6a5a3eb",
   "metadata": {},
   "outputs": [],
   "source": []
  },
  {
   "cell_type": "code",
   "execution_count": null,
   "id": "d234ec7e",
   "metadata": {},
   "outputs": [],
   "source": []
  }
 ],
 "metadata": {
  "kernelspec": {
   "display_name": "Python 3 (ipykernel)",
   "language": "python",
   "name": "python3"
  },
  "language_info": {
   "codemirror_mode": {
    "name": "ipython",
    "version": 3
   },
   "file_extension": ".py",
   "mimetype": "text/x-python",
   "name": "python",
   "nbconvert_exporter": "python",
   "pygments_lexer": "ipython3",
   "version": "3.9.12"
  }
 },
 "nbformat": 4,
 "nbformat_minor": 5
}
